{
  "nbformat": 4,
  "nbformat_minor": 0,
  "metadata": {
    "colab": {
      "name": "Mrunmayi_NLP_Final.ipynb",
      "provenance": []
    },
    "kernelspec": {
      "name": "python3",
      "display_name": "Python 3"
    },
    "language_info": {
      "name": "python"
    }
  },
  "cells": [
    {
      "cell_type": "markdown",
      "source": [
        "### Data to be used: Amazon_fine_food_reviews.csv\n",
        "\n",
        "### Problem statement: Use the data from\"Summary\" and \"text\" column of the above file. Ignore the other columns. Perform a clustering on the data after finding the optimum number of clusters. On found out clusters perform the topic modelling.i.e. if you have found 10 clusters then there should be 10 topics as well."
      ],
      "metadata": {
        "id": "dnjKkXU8lNAG"
      }
    },
    {
      "cell_type": "markdown",
      "source": [
        "Import packages and libraries"
      ],
      "metadata": {
        "id": "tEa6z3YDWxT0"
      }
    },
    {
      "cell_type": "code",
      "execution_count": 81,
      "metadata": {
        "id": "sZuRUx1QkYel"
      },
      "outputs": [],
      "source": [
        "import pandas as pd\n",
        "import numpy as np\n",
        "import matplotlib.pyplot as plt\n",
        "from sklearn.feature_extraction.text import CountVectorizer\n",
        "import scipy.stats as stats \n",
        "import numpy as np\n",
        "import pandas as pd\n",
        "from IPython.display import display\n",
        "from tqdm import tqdm\n",
        "from collections import Counter\n",
        "import ast\n",
        "\n",
        "import matplotlib.pyplot as plt\n",
        "import matplotlib.mlab as mlab\n",
        "import seaborn as sb\n",
        "\n",
        "from sklearn.feature_extraction.text import CountVectorizer\n",
        "from textblob import TextBlob\n",
        "import scipy.stats as stats\n",
        "\n",
        "from sklearn.decomposition import TruncatedSVD\n",
        "from sklearn.decomposition import LatentDirichletAllocation\n",
        "from sklearn.manifold import TSNE\n",
        "from bokeh.plotting import figure, output_file, show\n",
        "from bokeh.models import Label\n",
        "from bokeh.io import output_notebook\n",
        "output_notebook()\n",
        "\n",
        "%matplotlib inline"
      ]
    },
    {
      "cell_type": "markdown",
      "source": [
        "Import Data"
      ],
      "metadata": {
        "id": "b3lZ9nx4W4hz"
      }
    },
    {
      "cell_type": "code",
      "source": [
        "amazon= pd.read_csv(\"/Amazon_fine_food_reviews.csv\")"
      ],
      "metadata": {
        "id": "-U61XlE7lb5t"
      },
      "execution_count": 28,
      "outputs": []
    },
    {
      "cell_type": "code",
      "source": [
        "amazon.head()"
      ],
      "metadata": {
        "colab": {
          "base_uri": "https://localhost:8080/",
          "height": 510
        },
        "id": "jIRwqT-dn00b",
        "outputId": "07416d78-4836-4240-a596-fceb66ea8732"
      },
      "execution_count": 29,
      "outputs": [
        {
          "output_type": "execute_result",
          "data": {
            "text/html": [
              "\n",
              "  <div id=\"df-21d2b40d-89d2-45d8-bb62-26f86edc3470\">\n",
              "    <div class=\"colab-df-container\">\n",
              "      <div>\n",
              "<style scoped>\n",
              "    .dataframe tbody tr th:only-of-type {\n",
              "        vertical-align: middle;\n",
              "    }\n",
              "\n",
              "    .dataframe tbody tr th {\n",
              "        vertical-align: top;\n",
              "    }\n",
              "\n",
              "    .dataframe thead th {\n",
              "        text-align: right;\n",
              "    }\n",
              "</style>\n",
              "<table border=\"1\" class=\"dataframe\">\n",
              "  <thead>\n",
              "    <tr style=\"text-align: right;\">\n",
              "      <th></th>\n",
              "      <th>Id</th>\n",
              "      <th>ProductId</th>\n",
              "      <th>UserId</th>\n",
              "      <th>ProfileName</th>\n",
              "      <th>HelpfulnessNumerator</th>\n",
              "      <th>HelpfulnessDenominator</th>\n",
              "      <th>Score</th>\n",
              "      <th>Time</th>\n",
              "      <th>Summary</th>\n",
              "      <th>Text</th>\n",
              "    </tr>\n",
              "  </thead>\n",
              "  <tbody>\n",
              "    <tr>\n",
              "      <th>0</th>\n",
              "      <td>1</td>\n",
              "      <td>B001E4KFG0</td>\n",
              "      <td>A3SGXH7AUHU8GW</td>\n",
              "      <td>delmartian</td>\n",
              "      <td>1</td>\n",
              "      <td>1</td>\n",
              "      <td>5</td>\n",
              "      <td>1303862400</td>\n",
              "      <td>Good Quality Dog Food</td>\n",
              "      <td>I have bought several of the Vitality canned d...</td>\n",
              "    </tr>\n",
              "    <tr>\n",
              "      <th>1</th>\n",
              "      <td>2</td>\n",
              "      <td>B00813GRG4</td>\n",
              "      <td>A1D87F6ZCVE5NK</td>\n",
              "      <td>dll pa</td>\n",
              "      <td>0</td>\n",
              "      <td>0</td>\n",
              "      <td>1</td>\n",
              "      <td>1346976000</td>\n",
              "      <td>Not as Advertised</td>\n",
              "      <td>Product arrived labeled as Jumbo Salted Peanut...</td>\n",
              "    </tr>\n",
              "    <tr>\n",
              "      <th>2</th>\n",
              "      <td>3</td>\n",
              "      <td>B000LQOCH0</td>\n",
              "      <td>ABXLMWJIXXAIN</td>\n",
              "      <td>Natalia Corres \"Natalia Corres\"</td>\n",
              "      <td>1</td>\n",
              "      <td>1</td>\n",
              "      <td>4</td>\n",
              "      <td>1219017600</td>\n",
              "      <td>\"Delight\" says it all</td>\n",
              "      <td>This is a confection that has been around a fe...</td>\n",
              "    </tr>\n",
              "    <tr>\n",
              "      <th>3</th>\n",
              "      <td>4</td>\n",
              "      <td>B000UA0QIQ</td>\n",
              "      <td>A395BORC6FGVXV</td>\n",
              "      <td>Karl</td>\n",
              "      <td>3</td>\n",
              "      <td>3</td>\n",
              "      <td>2</td>\n",
              "      <td>1307923200</td>\n",
              "      <td>Cough Medicine</td>\n",
              "      <td>If you are looking for the secret ingredient i...</td>\n",
              "    </tr>\n",
              "    <tr>\n",
              "      <th>4</th>\n",
              "      <td>5</td>\n",
              "      <td>B006K2ZZ7K</td>\n",
              "      <td>A1UQRSCLF8GW1T</td>\n",
              "      <td>Michael D. Bigham \"M. Wassir\"</td>\n",
              "      <td>0</td>\n",
              "      <td>0</td>\n",
              "      <td>5</td>\n",
              "      <td>1350777600</td>\n",
              "      <td>Great taffy</td>\n",
              "      <td>Great taffy at a great price.  There was a wid...</td>\n",
              "    </tr>\n",
              "  </tbody>\n",
              "</table>\n",
              "</div>\n",
              "      <button class=\"colab-df-convert\" onclick=\"convertToInteractive('df-21d2b40d-89d2-45d8-bb62-26f86edc3470')\"\n",
              "              title=\"Convert this dataframe to an interactive table.\"\n",
              "              style=\"display:none;\">\n",
              "        \n",
              "  <svg xmlns=\"http://www.w3.org/2000/svg\" height=\"24px\"viewBox=\"0 0 24 24\"\n",
              "       width=\"24px\">\n",
              "    <path d=\"M0 0h24v24H0V0z\" fill=\"none\"/>\n",
              "    <path d=\"M18.56 5.44l.94 2.06.94-2.06 2.06-.94-2.06-.94-.94-2.06-.94 2.06-2.06.94zm-11 1L8.5 8.5l.94-2.06 2.06-.94-2.06-.94L8.5 2.5l-.94 2.06-2.06.94zm10 10l.94 2.06.94-2.06 2.06-.94-2.06-.94-.94-2.06-.94 2.06-2.06.94z\"/><path d=\"M17.41 7.96l-1.37-1.37c-.4-.4-.92-.59-1.43-.59-.52 0-1.04.2-1.43.59L10.3 9.45l-7.72 7.72c-.78.78-.78 2.05 0 2.83L4 21.41c.39.39.9.59 1.41.59.51 0 1.02-.2 1.41-.59l7.78-7.78 2.81-2.81c.8-.78.8-2.07 0-2.86zM5.41 20L4 18.59l7.72-7.72 1.47 1.35L5.41 20z\"/>\n",
              "  </svg>\n",
              "      </button>\n",
              "      \n",
              "  <style>\n",
              "    .colab-df-container {\n",
              "      display:flex;\n",
              "      flex-wrap:wrap;\n",
              "      gap: 12px;\n",
              "    }\n",
              "\n",
              "    .colab-df-convert {\n",
              "      background-color: #E8F0FE;\n",
              "      border: none;\n",
              "      border-radius: 50%;\n",
              "      cursor: pointer;\n",
              "      display: none;\n",
              "      fill: #1967D2;\n",
              "      height: 32px;\n",
              "      padding: 0 0 0 0;\n",
              "      width: 32px;\n",
              "    }\n",
              "\n",
              "    .colab-df-convert:hover {\n",
              "      background-color: #E2EBFA;\n",
              "      box-shadow: 0px 1px 2px rgba(60, 64, 67, 0.3), 0px 1px 3px 1px rgba(60, 64, 67, 0.15);\n",
              "      fill: #174EA6;\n",
              "    }\n",
              "\n",
              "    [theme=dark] .colab-df-convert {\n",
              "      background-color: #3B4455;\n",
              "      fill: #D2E3FC;\n",
              "    }\n",
              "\n",
              "    [theme=dark] .colab-df-convert:hover {\n",
              "      background-color: #434B5C;\n",
              "      box-shadow: 0px 1px 3px 1px rgba(0, 0, 0, 0.15);\n",
              "      filter: drop-shadow(0px 1px 2px rgba(0, 0, 0, 0.3));\n",
              "      fill: #FFFFFF;\n",
              "    }\n",
              "  </style>\n",
              "\n",
              "      <script>\n",
              "        const buttonEl =\n",
              "          document.querySelector('#df-21d2b40d-89d2-45d8-bb62-26f86edc3470 button.colab-df-convert');\n",
              "        buttonEl.style.display =\n",
              "          google.colab.kernel.accessAllowed ? 'block' : 'none';\n",
              "\n",
              "        async function convertToInteractive(key) {\n",
              "          const element = document.querySelector('#df-21d2b40d-89d2-45d8-bb62-26f86edc3470');\n",
              "          const dataTable =\n",
              "            await google.colab.kernel.invokeFunction('convertToInteractive',\n",
              "                                                     [key], {});\n",
              "          if (!dataTable) return;\n",
              "\n",
              "          const docLinkHtml = 'Like what you see? Visit the ' +\n",
              "            '<a target=\"_blank\" href=https://colab.research.google.com/notebooks/data_table.ipynb>data table notebook</a>'\n",
              "            + ' to learn more about interactive tables.';\n",
              "          element.innerHTML = '';\n",
              "          dataTable['output_type'] = 'display_data';\n",
              "          await google.colab.output.renderOutput(dataTable, element);\n",
              "          const docLink = document.createElement('div');\n",
              "          docLink.innerHTML = docLinkHtml;\n",
              "          element.appendChild(docLink);\n",
              "        }\n",
              "      </script>\n",
              "    </div>\n",
              "  </div>\n",
              "  "
            ],
            "text/plain": [
              "   Id  ...                                               Text\n",
              "0   1  ...  I have bought several of the Vitality canned d...\n",
              "1   2  ...  Product arrived labeled as Jumbo Salted Peanut...\n",
              "2   3  ...  This is a confection that has been around a fe...\n",
              "3   4  ...  If you are looking for the secret ingredient i...\n",
              "4   5  ...  Great taffy at a great price.  There was a wid...\n",
              "\n",
              "[5 rows x 10 columns]"
            ]
          },
          "metadata": {},
          "execution_count": 29
        }
      ]
    },
    {
      "cell_type": "markdown",
      "source": [
        "PreProcessing of data"
      ],
      "metadata": {
        "id": "teZRmJkjXHNM"
      }
    },
    {
      "cell_type": "code",
      "source": [
        "amazon.info()"
      ],
      "metadata": {
        "colab": {
          "base_uri": "https://localhost:8080/"
        },
        "id": "IXf4ygdkn4CJ",
        "outputId": "7dbdc1fb-e6e4-41c8-d978-265cc87b23ad"
      },
      "execution_count": 30,
      "outputs": [
        {
          "output_type": "stream",
          "name": "stdout",
          "text": [
            "<class 'pandas.core.frame.DataFrame'>\n",
            "RangeIndex: 199141 entries, 0 to 199140\n",
            "Data columns (total 10 columns):\n",
            " #   Column                  Non-Null Count   Dtype \n",
            "---  ------                  --------------   ----- \n",
            " 0   Id                      199141 non-null  int64 \n",
            " 1   ProductId               199141 non-null  object\n",
            " 2   UserId                  199141 non-null  object\n",
            " 3   ProfileName             199133 non-null  object\n",
            " 4   HelpfulnessNumerator    199141 non-null  int64 \n",
            " 5   HelpfulnessDenominator  199141 non-null  int64 \n",
            " 6   Score                   199141 non-null  int64 \n",
            " 7   Time                    199141 non-null  int64 \n",
            " 8   Summary                 199133 non-null  object\n",
            " 9   Text                    199141 non-null  object\n",
            "dtypes: int64(5), object(5)\n",
            "memory usage: 15.2+ MB\n"
          ]
        }
      ]
    },
    {
      "cell_type": "code",
      "source": [
        "reindexed_data = amazon['Text']"
      ],
      "metadata": {
        "id": "RhXBNQhQYVJj"
      },
      "execution_count": 74,
      "outputs": []
    },
    {
      "cell_type": "code",
      "source": [
        "def get_top_n_words(n_top_words, count_vectorizer, text_data):\n",
        "    '''\n",
        "    returns a tuple of the top n words in a sample and their \n",
        "    accompanying counts, given a CountVectorizer object and text sample\n",
        "    '''\n",
        "    vectorized_headlines = count_vectorizer.fit_transform(text_data.values)\n",
        "    vectorized_total = np.sum(vectorized_headlines, axis=0)\n",
        "    word_indices = np.flip(np.argsort(vectorized_total)[0,:], 1)\n",
        "    word_values = np.flip(np.sort(vectorized_total)[0,:],1)\n",
        "    \n",
        "    word_vectors = np.zeros((n_top_words, vectorized_headlines.shape[1]))\n",
        "    for i in range(n_top_words):\n",
        "        word_vectors[i,word_indices[0,i]] = 1\n",
        "\n",
        "    words = [word[0].encode('ascii').decode('utf-8') for \n",
        "             word in count_vectorizer.inverse_transform(word_vectors)]\n",
        "\n",
        "    return (words, word_values[0,:n_top_words].tolist()[0])"
      ],
      "metadata": {
        "id": "1olqNvyVX69X"
      },
      "execution_count": 75,
      "outputs": []
    },
    {
      "cell_type": "code",
      "source": [
        "count_vectorizer = CountVectorizer(stop_words='english')\n",
        "words, word_values = get_top_n_words(n_top_words=15,\n",
        "                                     count_vectorizer=count_vectorizer, \n",
        "                                     text_data=reindexed_data)\n",
        "\n",
        "fig, ax = plt.subplots(figsize=(16,8))\n",
        "ax.bar(range(len(words)), word_values);\n",
        "ax.set_xticks(range(len(words)));\n",
        "ax.set_xticklabels(words, rotation='vertical');\n",
        "ax.set_title('Top words in headlines dataset (excluding stop words)');\n",
        "ax.set_xlabel('Word');\n",
        "ax.set_ylabel('Number of occurences');\n",
        "plt.show()"
      ],
      "metadata": {
        "colab": {
          "base_uri": "https://localhost:8080/",
          "height": 541
        },
        "id": "H4E6ehjoYBE0",
        "outputId": "c983973c-dfb9-4d97-a23c-5727084f60e5"
      },
      "execution_count": 76,
      "outputs": [
        {
          "output_type": "display_data",
          "data": {
            "image/png": "[encoded data removed]",
            "text/plain": [
              "<Figure size 1152x576 with 1 Axes>"
            ]
          },
          "metadata": {
            "needs_background": "light"
          }
        }
      ]
    },
    {
      "cell_type": "code",
      "source": [
        "import nltk\n",
        "nltk.download('averaged_perceptron_tagger')\n",
        "tagged_reviews = [TextBlob(reindexed_data[i]).pos_tags for i in range(reindexed_data.shape[0])]"
      ],
      "metadata": {
        "colab": {
          "base_uri": "https://localhost:8080/"
        },
        "id": "lct1oTlTYlCX",
        "outputId": "90105a56-d1ce-405c-8f61-457bb50f938b"
      },
      "execution_count": 84,
      "outputs": [
        {
          "output_type": "stream",
          "name": "stdout",
          "text": [
            "[nltk_data] Downloading package averaged_perceptron_tagger to\n",
            "[nltk_data]     /root/nltk_data...\n",
            "[nltk_data]   Unzipping taggers/averaged_perceptron_tagger.zip.\n"
          ]
        }
      ]
    },
    {
      "cell_type": "code",
      "source": [
        "tagged_headlines_df = pd.DataFrame({'tags':tagged_reviews})\n",
        "\n",
        "word_counts = [] \n",
        "pos_counts = {}\n",
        "\n",
        "for headline in tagged_headlines_df[u'tags']:\n",
        "    word_counts.append(len(headline))\n",
        "    for tag in headline:\n",
        "        if tag[1] in pos_counts:\n",
        "            pos_counts[tag[1]] += 1\n",
        "        else:\n",
        "            pos_counts[tag[1]] = 1\n",
        "            \n",
        "print('Total number of words: ', np.sum(word_counts))\n",
        "print('Mean number of words per headline: ', np.mean(word_counts))"
      ],
      "metadata": {
        "colab": {
          "base_uri": "https://localhost:8080/"
        },
        "id": "uYzUOconcmYC",
        "outputId": "e3161d20-2b4a-4af7-e5dc-3e847168648c"
      },
      "execution_count": 87,
      "outputs": [
        {
          "output_type": "stream",
          "name": "stdout",
          "text": [
            "Total number of words:  6547269\n",
            "Mean number of words per headline:  32.87755409483733\n"
          ]
        }
      ]
    },
    {
      "cell_type": "code",
      "source": [
        "y = stats.norm.pdf(np.linspace(0,14,50), np.mean(word_counts), np.std(word_counts))\n",
        "\n",
        "fig, ax = plt.subplots(figsize=(18,8))\n",
        "ax.hist(word_counts, bins=range(1,14), density=True);\n",
        "ax.plot(np.linspace(0,14,50), y, 'r--', linewidth=1);\n",
        "ax.set_title('Headline word lengths');\n",
        "ax.set_xticks(range(1,14));\n",
        "ax.set_xlabel('Number of words');\n",
        "plt.show()\n"
      ],
      "metadata": {
        "colab": {
          "base_uri": "https://localhost:8080/",
          "height": 513
        },
        "id": "EkanRRrjcSiA",
        "outputId": "2a8f09fc-5cbc-49c5-f366-003f2c2606d6"
      },
      "execution_count": 88,
      "outputs": [
        {
          "output_type": "display_data",
          "data": {
            "image/png": "[encoded data removed]",
            "text/plain": [
              "<Figure size 1296x576 with 1 Axes>"
            ]
          },
          "metadata": {
            "needs_background": "light"
          }
        }
      ]
    },
    {
      "cell_type": "code",
      "source": [
        ""
      ],
      "metadata": {
        "id": "irsF3vL6cyTN"
      },
      "execution_count": null,
      "outputs": []
    },
    {
      "cell_type": "code",
      "source": [
        "reindexed_data = amazon['Text']"
      ],
      "metadata": {
        "id": "BSjYfraHn8gF"
      },
      "execution_count": 59,
      "outputs": []
    },
    {
      "cell_type": "code",
      "source": [
        "def get_top_n_words(n, keys, document_term_matrix, count_vectorizer):\n",
        "    '''\n",
        "    returns a list of n_topic strings, where each string contains the n most common \n",
        "    words in a predicted category, in order\n",
        "    '''\n",
        "    top_word_indices = []\n",
        "    for topic in range(n_topics):\n",
        "        temp_vector_sum = 0\n",
        "        for i in range(len(keys)):\n",
        "            if keys[i] == topic:\n",
        "                temp_vector_sum += document_term_matrix[i]\n",
        "        temp_vector_sum = temp_vector_sum.toarray()\n",
        "        top_n_word_indices = np.flip(np.argsort(temp_vector_sum)[0][-n:],0)\n",
        "        top_word_indices.append(top_n_word_indices)   \n",
        "    top_words = []\n",
        "    for topic in top_word_indices:\n",
        "        topic_words = []\n",
        "        for index in topic:\n",
        "            temp_word_vector = np.zeros((1,document_term_matrix.shape[1]))\n",
        "            temp_word_vector[:,index] = 1\n",
        "            the_word = count_vectorizer.inverse_transform(temp_word_vector)[0][0]\n",
        "            topic_words.append(the_word.encode('ascii').decode('utf-8'))\n",
        "        top_words.append(\" \".join(topic_words))         \n",
        "    return top_words"
      ],
      "metadata": {
        "id": "bDBxWKDlBTRx"
      },
      "execution_count": 60,
      "outputs": []
    },
    {
      "cell_type": "code",
      "source": [
        "import nltk\n",
        "import string\n",
        "from nltk.corpus import stopwords\n",
        "from nltk.stem import PorterStemmer\n",
        "import nltk\n",
        "nltk.download('words')\n",
        "nltk.download('stopwords')\n"
      ],
      "metadata": {
        "colab": {
          "base_uri": "https://localhost:8080/"
        },
        "id": "_NctoPqEoMeC",
        "outputId": "e1bd3093-ff3b-4c02-aa2e-a1ab97c97fc3"
      },
      "execution_count": 19,
      "outputs": [
        {
          "output_type": "stream",
          "name": "stdout",
          "text": [
            "[nltk_data] Downloading package words to /root/nltk_data...\n",
            "[nltk_data]   Unzipping corpora/words.zip.\n",
            "[nltk_data] Downloading package stopwords to /root/nltk_data...\n",
            "[nltk_data]   Unzipping corpora/stopwords.zip.\n"
          ]
        },
        {
          "output_type": "execute_result",
          "data": {
            "text/plain": [
              "True"
            ]
          },
          "metadata": {},
          "execution_count": 19
        }
      ]
    },
    {
      "cell_type": "code",
      "source": [
        "reindexed_data"
      ],
      "metadata": {
        "colab": {
          "base_uri": "https://localhost:8080/"
        },
        "id": "Bzq-Hr4jpvWT",
        "outputId": "1541202d-acaf-4f0e-f623-cdc649a3b586"
      },
      "execution_count": 20,
      "outputs": [
        {
          "output_type": "execute_result",
          "data": {
            "text/plain": [
              "0        I have bought several of the Vitality canned d...\n",
              "1        Product arrived labeled as Jumbo Salted Peanut...\n",
              "2        This is a confection that has been around a fe...\n",
              "3        If you are looking for the secret ingredient i...\n",
              "4        Great taffy at a great price.  There was a wid...\n",
              "                               ...                        \n",
              "29936    This soup mix makes a tasty addition to any mu...\n",
              "29937    If you lack dark green vegetables this will su...\n",
              "29938    I love my coffee and have tried all the name b...\n",
              "29939    Folgers classic roast has been my trusted bran...\n",
              "29940                                                  NaN\n",
              "Name: Text, Length: 29941, dtype: object"
            ]
          },
          "metadata": {},
          "execution_count": 20
        }
      ]
    },
    {
      "cell_type": "code",
      "source": [
        "eng_words = set(nltk.corpus.words.words())"
      ],
      "metadata": {
        "id": "6nYHK8W9qABR"
      },
      "execution_count": 21,
      "outputs": []
    },
    {
      "cell_type": "code",
      "source": [
        "def preprocessing(in_amazon):\n",
        "    #tokenization\n",
        "    in_amazon['Text'] = in_amazon['Text'].apply(lambda x: x.split())\n",
        "    print(\"After tokenisation\")\n",
        "    print(in_amazon.head())\n",
        "\n",
        "    punctuations = string.punctuation\n",
        "    print(f\"The punctuations are {punctuations}\")\n",
        "\n",
        "\n",
        "    #remove punctuations\n",
        "    in_amazon['Text'] = in_amazon['Text'].apply(lambda x: [word.strip(punctuations) for word in x])\n",
        "    print(\"After removing punctuations\")\n",
        "    print(in_amazon.head())\n",
        "\n",
        "    #remove numbers\n",
        "    amazon['Text'] = amazon['Text'].apply(lambda x: [word for word in x if not word.isdigit()])\n",
        "    print(\"After removing digits\")\n",
        "    print(amazon.head())\n",
        "    \n",
        "    #remove non english words\n",
        "    amazon['Text'] = amazon['Text'].apply(lambda x: [word for word in x if word.lower() in eng_words])\n",
        "    print(\"After removing digits\")\n",
        "    print(amazon.head())\n",
        "\n",
        "    #remove worls smaller than length 3\n",
        "    amazon['Text'] = amazon['Text'].apply(lambda x: [word for word in x if len(word) > 2])\n",
        "    print(\"After removing digits\")\n",
        "    print(amazon.head())\n",
        "\n",
        "    #stop word removal\n",
        "    stop_words = stopwords.words('english')\n",
        "    in_amazon['Text'] = in_amazon['Text'].apply(lambda x: [word for word in x if word not in stop_words])\n",
        "    print(\"After removing stop words\")\n",
        "    print(in_amazon.head())\n",
        "\n",
        "    \n",
        "\n",
        "    #stemming\n",
        "    ps = PorterStemmer() \n",
        "    in_amazon['Text'] = in_amazon['Text'].apply(lambda x: [ ps.stem(word) for word in x])\n",
        "    print(\"After removing stop words\")\n",
        "    print(in_amazon.head())\n",
        "\n",
        "\n",
        "    # join tokens back\n",
        "    in_amazon['Text'] = in_amazon['Text'].apply(lambda x: \" \".join(x))\n",
        "    print(\"After joining the tokens back\")\n",
        "    print(in_amazon.head())\n",
        "    return in_amazon\n",
        "\n",
        "\n",
        "processed_amazon = preprocessing(amazon)\n",
        "#get the corpus in the form of list of strings\n",
        "corpus_text = list(amazon['Text'].values)\n",
        "\n",
        "\n",
        "    "
      ],
      "metadata": {
        "colab": {
          "base_uri": "https://localhost:8080/"
        },
        "id": "5eKS4JErqBnZ",
        "outputId": "cf8321d8-dabe-4c3b-f007-95c70f8fe23c"
      },
      "execution_count": 32,
      "outputs": [
        {
          "output_type": "stream",
          "name": "stdout",
          "text": [
            "After tokenisation\n",
            "   Id  ...                                               Text\n",
            "0   1  ...  [I, have, bought, several, of, the, Vitality, ...\n",
            "1   2  ...  [Product, arrived, labeled, as, Jumbo, Salted,...\n",
            "2   3  ...  [This, is, a, confection, that, has, been, aro...\n",
            "3   4  ...  [If, you, are, looking, for, the, secret, ingr...\n",
            "4   5  ...  [Great, taffy, at, a, great, price., There, wa...\n",
            "\n",
            "[5 rows x 10 columns]\n",
            "The punctuations are !\"#$%&'()*+,-./:;<=>?@[\\]^_`{|}~\n",
            "After removing punctuations\n",
            "   Id  ...                                               Text\n",
            "0   1  ...  [I, have, bought, several, of, the, Vitality, ...\n",
            "1   2  ...  [Product, arrived, labeled, as, Jumbo, Salted,...\n",
            "2   3  ...  [This, is, a, confection, that, has, been, aro...\n",
            "3   4  ...  [If, you, are, looking, for, the, secret, ingr...\n",
            "4   5  ...  [Great, taffy, at, a, great, price, There, was...\n",
            "\n",
            "[5 rows x 10 columns]\n",
            "After removing digits\n",
            "   Id  ...                                               Text\n",
            "0   1  ...  [I, have, bought, several, of, the, Vitality, ...\n",
            "1   2  ...  [Product, arrived, labeled, as, Jumbo, Salted,...\n",
            "2   3  ...  [This, is, a, confection, that, has, been, aro...\n",
            "3   4  ...  [If, you, are, looking, for, the, secret, ingr...\n",
            "4   5  ...  [Great, taffy, at, a, great, price, There, was...\n",
            "\n",
            "[5 rows x 10 columns]\n",
            "After removing digits\n",
            "   Id  ...                                               Text\n",
            "0   1  ...  [I, have, bought, several, of, the, Vitality, ...\n",
            "1   2  ...  [Product, as, Jumbo, Salted, were, actually, s...\n",
            "2   3  ...  [This, is, a, confection, that, been, around, ...\n",
            "3   4  ...  [If, you, are, looking, for, the, secret, ingr...\n",
            "4   5  ...  [Great, taffy, at, a, great, price, There, was...\n",
            "\n",
            "[5 rows x 10 columns]\n",
            "After removing digits\n",
            "   Id  ...                                               Text\n",
            "0   1  ...  [have, bought, several, the, Vitality, canned,...\n",
            "1   2  ...  [Product, Jumbo, Salted, were, actually, small...\n",
            "2   3  ...  [This, confection, that, been, around, few, li...\n",
            "3   4  ...  [you, are, looking, for, the, secret, ingredie...\n",
            "4   5  ...  [Great, taffy, great, price, There, was, wide,...\n",
            "\n",
            "[5 rows x 10 columns]\n",
            "After removing stop words\n",
            "   Id  ...                                               Text\n",
            "0   1  ...  [bought, several, Vitality, canned, dog, food,...\n",
            "1   2  ...  [Product, Jumbo, Salted, actually, small, size...\n",
            "2   3  ...  [This, confection, around, light, pillowy, cit...\n",
            "3   4  ...  [looking, secret, ingredient, believe, found, ...\n",
            "4   5  ...  [Great, taffy, great, price, There, wide, asso...\n",
            "\n",
            "[5 rows x 10 columns]\n",
            "After removing stop words\n",
            "   Id  ...                                               Text\n",
            "0   1  ...  [bought, sever, vital, can, dog, food, found, ...\n",
            "1   2  ...  [product, jumbo, salt, actual, small, size, un...\n",
            "2   3  ...  [thi, confect, around, light, pillowi, citru, ...\n",
            "3   4  ...  [look, secret, ingredi, believ, found, got, ad...\n",
            "4   5  ...  [great, taffi, great, price, there, wide, asso...\n",
            "\n",
            "[5 rows x 10 columns]\n",
            "After joining the tokens back\n",
            "   Id  ...                                               Text\n",
            "0   1  ...  bought sever vital can dog food found good qua...\n",
            "1   2  ...  product jumbo salt actual small size unsalt no...\n",
            "2   3  ...  thi confect around light pillowi citru gelatin...\n",
            "3   4  ...  look secret ingredi believ found got addit roo...\n",
            "4   5  ...  great taffi great price there wide assort yumm...\n",
            "\n",
            "[5 rows x 10 columns]\n"
          ]
        }
      ]
    },
    {
      "cell_type": "code",
      "source": [
        "len(corpus_text)"
      ],
      "metadata": {
        "colab": {
          "base_uri": "https://localhost:8080/"
        },
        "id": "G0OsOFUdrstm",
        "outputId": "a3e9e63c-b879-4a44-e77f-46ed1c93aa26"
      },
      "execution_count": 33,
      "outputs": [
        {
          "output_type": "execute_result",
          "data": {
            "text/plain": [
              "199141"
            ]
          },
          "metadata": {},
          "execution_count": 33
        }
      ]
    },
    {
      "cell_type": "code",
      "source": [
        "type(corpus_text)"
      ],
      "metadata": {
        "colab": {
          "base_uri": "https://localhost:8080/"
        },
        "id": "0-e-6t0HsrwM",
        "outputId": "610f6d53-ba96-48da-d4e3-ad6cf085238c"
      },
      "execution_count": 34,
      "outputs": [
        {
          "output_type": "execute_result",
          "data": {
            "text/plain": [
              "list"
            ]
          },
          "metadata": {},
          "execution_count": 34
        }
      ]
    },
    {
      "cell_type": "code",
      "source": [
        "from sklearn.feature_extraction.text import  CountVectorizer\n",
        "from sklearn.decomposition import LatentDirichletAllocation\n",
        "from datetime import datetime"
      ],
      "metadata": {
        "id": "CG3LYh8Rsu_J"
      },
      "execution_count": 35,
      "outputs": []
    },
    {
      "cell_type": "code",
      "source": [
        "tf_vectorizer = CountVectorizer(stop_words='english')\n",
        "tf_vectorizer.fit(corpus_text)\n",
        "tf = tf_vectorizer.transform(corpus_text)\n",
        "tf_feature_names = tf_vectorizer.get_feature_names()"
      ],
      "metadata": {
        "colab": {
          "base_uri": "https://localhost:8080/"
        },
        "id": "3nZfbZ3xsyWa",
        "outputId": "b5667eae-2ece-4c10-a387-3cd1adc539fa"
      },
      "execution_count": 36,
      "outputs": [
        {
          "output_type": "stream",
          "name": "stderr",
          "text": [
            "/usr/local/lib/python3.7/dist-packages/sklearn/utils/deprecation.py:87: FutureWarning: Function get_feature_names is deprecated; get_feature_names is deprecated in 1.0 and will be removed in 1.2. Please use get_feature_names_out instead.\n",
            "  warnings.warn(msg, category=FutureWarning)\n"
          ]
        }
      ]
    },
    {
      "cell_type": "code",
      "source": [
        "tf_feature_names[-10:]"
      ],
      "metadata": {
        "colab": {
          "base_uri": "https://localhost:8080/"
        },
        "id": "xT3qMeans6a1",
        "outputId": "55754fa4-acb9-4025-a37a-373bb8112fb0"
      },
      "execution_count": 37,
      "outputs": [
        {
          "output_type": "execute_result",
          "data": {
            "text/plain": [
              "['zone',\n",
              " 'zoo',\n",
              " 'zoolog',\n",
              " 'zoom',\n",
              " 'zoonot',\n",
              " 'zooplankton',\n",
              " 'zorro',\n",
              " 'zowi',\n",
              " 'zucchini',\n",
              " 'zwieback']"
            ]
          },
          "metadata": {},
          "execution_count": 37
        }
      ]
    },
    {
      "cell_type": "code",
      "source": [
        "no_topics = 10\n",
        "t1 = datetime.now()\n",
        "lda = LatentDirichletAllocation(n_components=no_topics, max_iter=5, learning_method='online',\\\n",
        "                                learning_offset=50.,random_state=0)\n",
        "lda.fit(tf)\n",
        "t2 = datetime.now()\n",
        "\n",
        "print(f\"Total time taken for fitting  is {t2-t1}\")"
      ],
      "metadata": {
        "colab": {
          "base_uri": "https://localhost:8080/"
        },
        "id": "mUcaWzB1tFXt",
        "outputId": "dc9864a9-ab66-4e0a-ece6-780115e4e207"
      },
      "execution_count": 38,
      "outputs": [
        {
          "output_type": "stream",
          "name": "stdout",
          "text": [
            "Total time taken for fitting  is 0:06:41.498373\n"
          ]
        }
      ]
    },
    {
      "cell_type": "markdown",
      "source": [
        "Topic modelling"
      ],
      "metadata": {
        "id": "kbKCObo2XRtt"
      }
    },
    {
      "cell_type": "code",
      "source": [
        "for topic_id, topic in enumerate(lda.components_):\n",
        "    print(topic_id)\n",
        "    print(topic)\n",
        "    #print(len(topic))\n",
        "    topic_keywords = [tf_feature_names[i] for i in topic.argsort()[-10:]]\n",
        "    print(topic_keywords)\n",
        "    keyword_weights = sorted(topic)[-10:]\n",
        "    keyword_weights = [round(weight, 2) for weight in keyword_weights]\n",
        "    print(keyword_weights)\n",
        "    print(\"-\"*50)"
      ],
      "metadata": {
        "colab": {
          "base_uri": "https://localhost:8080/"
        },
        "id": "94PYDaphut00",
        "outputId": "bf5a221d-0794-4cfd-f230-539dceb0dee5"
      },
      "execution_count": 39,
      "outputs": [
        {
          "output_type": "stream",
          "name": "stdout",
          "text": [
            "0\n",
            "[0.10001085 0.10015511 0.10014612 ... 0.10000316 0.10005087 0.1000339 ]\n",
            "['feed', 'day', 'tri', 'dri', 'treat', 'like', 'cat', 'eat', 'dog', 'food']\n",
            "[7405.86, 8074.71, 8216.21, 8244.86, 8678.01, 10834.64, 13714.43, 19388.04, 37667.95, 47241.76]\n",
            "--------------------------------------------------\n",
            "1\n",
            "[ 0.10001955  0.10004691  0.10000002 ...  0.1         0.10001753\n",
            " 18.859074  ]\n",
            "['descript', 'stale', 'rememb', 'jar', 'date', 'choic', 'popcorn', 'peanut', 'disappoint', 'butter']\n",
            "[1878.38, 1996.17, 2051.79, 2076.84, 2586.36, 3129.21, 4729.46, 5977.13, 7489.56, 8148.62]\n",
            "--------------------------------------------------\n",
            "2\n",
            "[ 0.10002912  0.10003849  0.10281289 ...  0.10001701 43.04925852\n",
            "  0.10001742]\n",
            "['better', 'littl', 'think', 'sweet', 'realli', 'good', 'tri', 'flavor', 'tast', 'like']\n",
            "[11101.02, 11479.79, 11990.3, 15277.45, 19494.92, 23496.87, 26533.38, 35930.57, 47506.47, 52065.8]\n",
            "--------------------------------------------------\n",
            "3\n",
            "[ 0.10001748  0.10005914  0.10153083 ...  0.1000024  20.84694267\n",
            "  0.10008193]\n",
            "['best', 'local', 'love', 'thi', 'store', 'good', 'buy', 'product', 'great', 'price']\n",
            "[10665.45, 11265.61, 12123.54, 12901.61, 15319.74, 15387.66, 16415.72, 17738.47, 21319.31, 26906.75]\n",
            "--------------------------------------------------\n",
            "4\n",
            "[0.10002436 0.10003619 0.10300907 ... 2.81910842 0.10002339 0.10003702]\n",
            "['syrup', 'got', 'gluten', 'box', 'free', 'receiv', 'packag', 'time', 'product', 'order']\n",
            "[4838.17, 4992.28, 5149.07, 6419.54, 7168.1, 8062.36, 8491.01, 8642.3, 12483.29, 16369.03]\n",
            "--------------------------------------------------\n",
            "5\n",
            "[0.10003108 0.10004014 0.10086191 ... 0.10007204 0.10002264 0.10006683]\n",
            "['way', 'come', 'small', 'plastic', 'money', 'work', 'open', 'box', 'use', 'bag']\n",
            "[4681.29, 4881.63, 4902.76, 5000.28, 6152.39, 6776.01, 7009.34, 7615.04, 8509.65, 12382.14]\n",
            "--------------------------------------------------\n",
            "6\n",
            "[43.16224997  0.10010447  0.41232314 ...  0.10761774  0.10007232\n",
            "  0.10000586]\n",
            "['color', 'review', 'blue', 'compani', 'list', 'peopl', 'son', 'natur', 'read', 'product']\n",
            "[3194.31, 3363.14, 3567.91, 4046.12, 4064.31, 4275.15, 4459.19, 4763.82, 7439.32, 11772.68]\n",
            "--------------------------------------------------\n",
            "7\n",
            "[0.10001989 0.10002165 0.10059267 ... 0.1        0.10000792 0.10000275]\n",
            "['tast', 'like', 'strong', 'green', 'thi', 'drink', 'flavor', 'cup', 'tea', 'coffe']\n",
            "[7910.36, 8649.0, 8937.11, 10433.45, 11176.83, 11979.92, 13887.55, 17575.41, 42847.75, 66971.76]\n",
            "--------------------------------------------------\n",
            "8\n",
            "[ 0.10000881 56.08954524  0.10032617 ...  0.1         0.10008058\n",
            "  0.10008677]\n",
            "['delici', 'tast', 'thi', 'love', 'mix', 'use', 'milk', 'make', 'great', 'chocol']\n",
            "[7111.6, 7333.15, 8729.91, 9252.09, 10504.03, 10759.81, 11164.0, 13077.34, 13604.24, 20253.8]\n",
            "--------------------------------------------------\n",
            "9\n",
            "[0.10000864 0.10003217 0.10050169 ... 0.10005392 0.10022151 0.10001652]\n",
            "['rice', 'fat', 'good', 'use', 'eat', 'sauc', 'flavor', 'salt', 'chip', 'oil']\n",
            "[6487.86, 6843.22, 6884.76, 7320.86, 7342.32, 7495.43, 8771.57, 9654.29, 12232.0, 12925.86]\n",
            "--------------------------------------------------\n"
          ]
        }
      ]
    },
    {
      "cell_type": "code",
      "source": [
        "small_count_vectorizer = CountVectorizer(stop_words='english', max_features=40000)\n",
        "small_document_term_matrix = small_count_vectorizer.fit_transform(corpus_text)\n",
        "\n",
        "print('review after vectorization: \\n{}'.format(small_document_term_matrix[123]))"
      ],
      "metadata": {
        "colab": {
          "base_uri": "https://localhost:8080/"
        },
        "id": "eT764NoH755t",
        "outputId": "ca6640a4-f688-4ce7-cafe-bfd6af1aea27"
      },
      "execution_count": 44,
      "outputs": [
        {
          "output_type": "stream",
          "name": "stdout",
          "text": [
            "review after vectorization: \n",
            "  (0, 12129)\t1\n",
            "  (0, 5164)\t4\n",
            "  (0, 5746)\t2\n",
            "  (0, 10795)\t3\n",
            "  (0, 11057)\t1\n",
            "  (0, 7888)\t1\n",
            "  (0, 4244)\t2\n",
            "  (0, 14282)\t1\n",
            "  (0, 4099)\t4\n",
            "  (0, 13208)\t1\n",
            "  (0, 130)\t1\n",
            "  (0, 379)\t1\n",
            "  (0, 7761)\t1\n",
            "  (0, 15127)\t1\n",
            "  (0, 9233)\t1\n",
            "  (0, 1083)\t1\n",
            "  (0, 9573)\t1\n",
            "  (0, 7848)\t1\n",
            "  (0, 9157)\t1\n",
            "  (0, 15880)\t2\n",
            "  (0, 9948)\t1\n",
            "  (0, 9250)\t2\n",
            "  (0, 4855)\t1\n",
            "  (0, 11030)\t1\n",
            "  (0, 11271)\t1\n",
            "  (0, 2080)\t1\n",
            "  (0, 4868)\t1\n",
            "  (0, 6415)\t3\n",
            "  (0, 12045)\t2\n",
            "  (0, 1108)\t1\n",
            "  (0, 4275)\t1\n",
            "  (0, 15722)\t1\n",
            "  (0, 10451)\t1\n",
            "  (0, 8147)\t1\n"
          ]
        }
      ]
    },
    {
      "cell_type": "code",
      "source": [
        "lda_topic_matrix = lda.fit_transform(small_document_term_matrix)"
      ],
      "metadata": {
        "id": "mAZ7-9Mf7u4D"
      },
      "execution_count": 46,
      "outputs": []
    },
    {
      "cell_type": "code",
      "source": [
        "def get_keys(topic_matrix):\n",
        "    '''\n",
        "    returns an integer list of predicted topic \n",
        "    categories for a given topic matrix\n",
        "    '''\n",
        "    keys = topic_matrix.argmax(axis=1).tolist()\n",
        "    return keys\n",
        "\n",
        "def keys_to_counts(keys):\n",
        "    '''\n",
        "    returns a tuple of topic categories and their \n",
        "    accompanying magnitudes for a given list of keys\n",
        "    '''\n",
        "    count_pairs = Counter(keys).items()\n",
        "    categories = [pair[0] for pair in count_pairs]\n",
        "    counts = [pair[1] for pair in count_pairs]\n",
        "    return (categories, counts)"
      ],
      "metadata": {
        "id": "mCWGtmhn-ZCP"
      },
      "execution_count": 49,
      "outputs": []
    },
    {
      "cell_type": "code",
      "source": [
        "from collections import Counter\n",
        "lda_keys = get_keys(lda_topic_matrix)\n",
        "lda_categories, lda_counts = keys_to_counts(lda_keys)"
      ],
      "metadata": {
        "id": "WbX5sLXd6_iU"
      },
      "execution_count": 51,
      "outputs": []
    },
    {
      "cell_type": "code",
      "source": [
        "n_topics = 10"
      ],
      "metadata": {
        "id": "XWXvX42TB_ug"
      },
      "execution_count": 63,
      "outputs": []
    },
    {
      "cell_type": "code",
      "source": [
        "top_n_words_lda = get_top_n_words(10, lda_keys, small_document_term_matrix, small_count_vectorizer)\n",
        "\n",
        "for i in range(len(top_n_words_lda)):\n",
        "    print(\"Topic {}: \".format(i+1), top_n_words_lda[i])"
      ],
      "metadata": {
        "colab": {
          "base_uri": "https://localhost:8080/"
        },
        "id": "FtenE_Z__yDi",
        "outputId": "f3eef244-c53b-4d75-a341-708c69ce38b6"
      },
      "execution_count": 64,
      "outputs": [
        {
          "output_type": "stream",
          "name": "stdout",
          "text": [
            "Topic 1:  dog food eat like cat tri good love product time\n",
            "Topic 2:  popcorn butter peanut like tast popper thi movi good product\n",
            "Topic 3:  like tast flavor good tri realli thi tea coffe drink\n",
            "Topic 4:  great price product good thi love buy store order like\n",
            "Topic 5:  order product time good like box receiv thi ship great\n",
            "Topic 6:  use bag like box product time coffe work good littl\n",
            "Topic 7:  product use like tast thi good sugar magnesium tri food\n",
            "Topic 8:  coffe tea flavor like cup tast thi good drink tri\n",
            "Topic 9:  chocol great tast good use like make thi love mix\n",
            "Topic 10:  chip like flavor tast good great use salt oil thi\n"
          ]
        }
      ]
    },
    {
      "cell_type": "code",
      "source": [
        "top_3_words = get_top_n_words(3, lda_keys, small_document_term_matrix, small_count_vectorizer)\n",
        "labels = ['Topic {}: \\n'.format(i) + top_3_words[i] for i in lda_categories]\n",
        "\n",
        "fig, ax = plt.subplots(figsize=(16,8))\n",
        "ax.bar(lda_categories, lda_counts);\n",
        "ax.set_xticks(lda_categories);\n",
        "ax.set_xticklabels(labels);\n",
        "ax.set_ylabel('Number of reviews');\n",
        "ax.set_title('LDA topic counts');\n",
        "plt.show()"
      ],
      "metadata": {
        "colab": {
          "base_uri": "https://localhost:8080/",
          "height": 510
        },
        "id": "MSfDqtQdCYe2",
        "outputId": "0729d5fe-a985-4109-fc64-067c34d03add"
      },
      "execution_count": 67,
      "outputs": [
        {
          "output_type": "display_data",
          "data": {
            "image/png": "[encoded data removed]",
            "text/plain": [
              "<Figure size 1152x576 with 1 Axes>"
            ]
          },
          "metadata": {
            "needs_background": "light"
          }
        }
      ]
    },
    {
      "cell_type": "markdown",
      "source": [
        "Distribution of maximum occured keywords from 10 topics"
      ],
      "metadata": {
        "id": "7UYa0hdZXXdT"
      }
    },
    {
      "cell_type": "markdown",
      "source": [
        "Clustering of topics"
      ],
      "metadata": {
        "id": "GQzOaZxdXfKD"
      }
    },
    {
      "cell_type": "code",
      "source": [
        "from sklearn.manifold import TSNE"
      ],
      "metadata": {
        "id": "kJ_TYfcZD45-"
      },
      "execution_count": 69,
      "outputs": []
    },
    {
      "cell_type": "code",
      "source": [
        "tsne_lda_model = TSNE(n_components=2, perplexity=50, learning_rate=100, \n",
        "                        n_iter=2000, verbose=1, random_state=0, angle=0.75)\n",
        "tsne_lda_vectors = tsne_lda_model.fit_transform(lda_topic_matrix)"
      ],
      "metadata": {
        "colab": {
          "base_uri": "https://localhost:8080/",
          "height": 1000
        },
        "id": "rOiecwBlDQ-a",
        "outputId": "81bffcb9-f9d8-4046-f75a-936e0f870b23"
      },
      "execution_count": 73,
      "outputs": [
        {
          "output_type": "stream",
          "name": "stderr",
          "text": [
            "/usr/local/lib/python3.7/dist-packages/sklearn/manifold/_t_sne.py:783: FutureWarning: The default initialization in TSNE will change from 'random' to 'pca' in 1.2.\n",
            "  FutureWarning,\n"
          ]
        },
        {
          "output_type": "stream",
          "name": "stdout",
          "text": [
            "[t-SNE] Computing 151 nearest neighbors...\n",
            "[t-SNE] Indexed 199141 samples in 0.512s...\n",
            "[t-SNE] Computed neighbors for 199141 samples in 121.268s...\n",
            "[t-SNE] Computed conditional probabilities for sample 1000 / 199141\n",
            "[t-SNE] Computed conditional probabilities for sample 2000 / 199141\n",
            "[t-SNE] Computed conditional probabilities for sample 3000 / 199141\n",
            "[t-SNE] Computed conditional probabilities for sample 4000 / 199141\n",
            "[t-SNE] Computed conditional probabilities for sample 5000 / 199141\n",
            "[t-SNE] Computed conditional probabilities for sample 6000 / 199141\n",
            "[t-SNE] Computed conditional probabilities for sample 7000 / 199141\n",
            "[t-SNE] Computed conditional probabilities for sample 8000 / 199141\n",
            "[t-SNE] Computed conditional probabilities for sample 9000 / 199141\n",
            "[t-SNE] Computed conditional probabilities for sample 10000 / 199141\n",
            "[t-SNE] Computed conditional probabilities for sample 11000 / 199141\n",
            "[t-SNE] Computed conditional probabilities for sample 12000 / 199141\n",
            "[t-SNE] Computed conditional probabilities for sample 13000 / 199141\n",
            "[t-SNE] Computed conditional probabilities for sample 14000 / 199141\n",
            "[t-SNE] Computed conditional probabilities for sample 15000 / 199141\n",
            "[t-SNE] Computed conditional probabilities for sample 16000 / 199141\n",
            "[t-SNE] Computed conditional probabilities for sample 17000 / 199141\n",
            "[t-SNE] Computed conditional probabilities for sample 18000 / 199141\n",
            "[t-SNE] Computed conditional probabilities for sample 19000 / 199141\n",
            "[t-SNE] Computed conditional probabilities for sample 20000 / 199141\n",
            "[t-SNE] Computed conditional probabilities for sample 21000 / 199141\n",
            "[t-SNE] Computed conditional probabilities for sample 22000 / 199141\n",
            "[t-SNE] Computed conditional probabilities for sample 23000 / 199141\n",
            "[t-SNE] Computed conditional probabilities for sample 24000 / 199141\n",
            "[t-SNE] Computed conditional probabilities for sample 25000 / 199141\n",
            "[t-SNE] Computed conditional probabilities for sample 26000 / 199141\n",
            "[t-SNE] Computed conditional probabilities for sample 27000 / 199141\n",
            "[t-SNE] Computed conditional probabilities for sample 28000 / 199141\n",
            "[t-SNE] Computed conditional probabilities for sample 29000 / 199141\n",
            "[t-SNE] Computed conditional probabilities for sample 30000 / 199141\n",
            "[t-SNE] Computed conditional probabilities for sample 31000 / 199141\n",
            "[t-SNE] Computed conditional probabilities for sample 32000 / 199141\n",
            "[t-SNE] Computed conditional probabilities for sample 33000 / 199141\n",
            "[t-SNE] Computed conditional probabilities for sample 34000 / 199141\n",
            "[t-SNE] Computed conditional probabilities for sample 35000 / 199141\n",
            "[t-SNE] Computed conditional probabilities for sample 36000 / 199141\n",
            "[t-SNE] Computed conditional probabilities for sample 37000 / 199141\n",
            "[t-SNE] Computed conditional probabilities for sample 38000 / 199141\n",
            "[t-SNE] Computed conditional probabilities for sample 39000 / 199141\n",
            "[t-SNE] Computed conditional probabilities for sample 40000 / 199141\n",
            "[t-SNE] Computed conditional probabilities for sample 41000 / 199141\n",
            "[t-SNE] Computed conditional probabilities for sample 42000 / 199141\n",
            "[t-SNE] Computed conditional probabilities for sample 43000 / 199141\n",
            "[t-SNE] Computed conditional probabilities for sample 44000 / 199141\n",
            "[t-SNE] Computed conditional probabilities for sample 45000 / 199141\n",
            "[t-SNE] Computed conditional probabilities for sample 46000 / 199141\n",
            "[t-SNE] Computed conditional probabilities for sample 47000 / 199141\n",
            "[t-SNE] Computed conditional probabilities for sample 48000 / 199141\n",
            "[t-SNE] Computed conditional probabilities for sample 49000 / 199141\n",
            "[t-SNE] Computed conditional probabilities for sample 50000 / 199141\n",
            "[t-SNE] Computed conditional probabilities for sample 51000 / 199141\n",
            "[t-SNE] Computed conditional probabilities for sample 52000 / 199141\n",
            "[t-SNE] Computed conditional probabilities for sample 53000 / 199141\n",
            "[t-SNE] Computed conditional probabilities for sample 54000 / 199141\n",
            "[t-SNE] Computed conditional probabilities for sample 55000 / 199141\n",
            "[t-SNE] Computed conditional probabilities for sample 56000 / 199141\n",
            "[t-SNE] Computed conditional probabilities for sample 57000 / 199141\n",
            "[t-SNE] Computed conditional probabilities for sample 58000 / 199141\n",
            "[t-SNE] Computed conditional probabilities for sample 59000 / 199141\n",
            "[t-SNE] Computed conditional probabilities for sample 60000 / 199141\n",
            "[t-SNE] Computed conditional probabilities for sample 61000 / 199141\n",
            "[t-SNE] Computed conditional probabilities for sample 62000 / 199141\n",
            "[t-SNE] Computed conditional probabilities for sample 63000 / 199141\n",
            "[t-SNE] Computed conditional probabilities for sample 64000 / 199141\n",
            "[t-SNE] Computed conditional probabilities for sample 65000 / 199141\n",
            "[t-SNE] Computed conditional probabilities for sample 66000 / 199141\n",
            "[t-SNE] Computed conditional probabilities for sample 67000 / 199141\n",
            "[t-SNE] Computed conditional probabilities for sample 68000 / 199141\n",
            "[t-SNE] Computed conditional probabilities for sample 69000 / 199141\n",
            "[t-SNE] Computed conditional probabilities for sample 70000 / 199141\n",
            "[t-SNE] Computed conditional probabilities for sample 71000 / 199141\n",
            "[t-SNE] Computed conditional probabilities for sample 72000 / 199141\n",
            "[t-SNE] Computed conditional probabilities for sample 73000 / 199141\n",
            "[t-SNE] Computed conditional probabilities for sample 74000 / 199141\n",
            "[t-SNE] Computed conditional probabilities for sample 75000 / 199141\n",
            "[t-SNE] Computed conditional probabilities for sample 76000 / 199141\n",
            "[t-SNE] Computed conditional probabilities for sample 77000 / 199141\n",
            "[t-SNE] Computed conditional probabilities for sample 78000 / 199141\n",
            "[t-SNE] Computed conditional probabilities for sample 79000 / 199141\n",
            "[t-SNE] Computed conditional probabilities for sample 80000 / 199141\n",
            "[t-SNE] Computed conditional probabilities for sample 81000 / 199141\n",
            "[t-SNE] Computed conditional probabilities for sample 82000 / 199141\n",
            "[t-SNE] Computed conditional probabilities for sample 83000 / 199141\n",
            "[t-SNE] Computed conditional probabilities for sample 84000 / 199141\n",
            "[t-SNE] Computed conditional probabilities for sample 85000 / 199141\n",
            "[t-SNE] Computed conditional probabilities for sample 86000 / 199141\n",
            "[t-SNE] Computed conditional probabilities for sample 87000 / 199141\n",
            "[t-SNE] Computed conditional probabilities for sample 88000 / 199141\n",
            "[t-SNE] Computed conditional probabilities for sample 89000 / 199141\n",
            "[t-SNE] Computed conditional probabilities for sample 90000 / 199141\n",
            "[t-SNE] Computed conditional probabilities for sample 91000 / 199141\n",
            "[t-SNE] Computed conditional probabilities for sample 92000 / 199141\n",
            "[t-SNE] Computed conditional probabilities for sample 93000 / 199141\n",
            "[t-SNE] Computed conditional probabilities for sample 94000 / 199141\n",
            "[t-SNE] Computed conditional probabilities for sample 95000 / 199141\n",
            "[t-SNE] Computed conditional probabilities for sample 96000 / 199141\n",
            "[t-SNE] Computed conditional probabilities for sample 97000 / 199141\n",
            "[t-SNE] Computed conditional probabilities for sample 98000 / 199141\n",
            "[t-SNE] Computed conditional probabilities for sample 99000 / 199141\n",
            "[t-SNE] Computed conditional probabilities for sample 100000 / 199141\n",
            "[t-SNE] Computed conditional probabilities for sample 101000 / 199141\n",
            "[t-SNE] Computed conditional probabilities for sample 102000 / 199141\n",
            "[t-SNE] Computed conditional probabilities for sample 103000 / 199141\n",
            "[t-SNE] Computed conditional probabilities for sample 104000 / 199141\n",
            "[t-SNE] Computed conditional probabilities for sample 105000 / 199141\n",
            "[t-SNE] Computed conditional probabilities for sample 106000 / 199141\n",
            "[t-SNE] Computed conditional probabilities for sample 107000 / 199141\n",
            "[t-SNE] Computed conditional probabilities for sample 108000 / 199141\n",
            "[t-SNE] Computed conditional probabilities for sample 109000 / 199141\n",
            "[t-SNE] Computed conditional probabilities for sample 110000 / 199141\n",
            "[t-SNE] Computed conditional probabilities for sample 111000 / 199141\n",
            "[t-SNE] Computed conditional probabilities for sample 112000 / 199141\n",
            "[t-SNE] Computed conditional probabilities for sample 113000 / 199141\n",
            "[t-SNE] Computed conditional probabilities for sample 114000 / 199141\n",
            "[t-SNE] Computed conditional probabilities for sample 115000 / 199141\n",
            "[t-SNE] Computed conditional probabilities for sample 116000 / 199141\n",
            "[t-SNE] Computed conditional probabilities for sample 117000 / 199141\n",
            "[t-SNE] Computed conditional probabilities for sample 118000 / 199141\n",
            "[t-SNE] Computed conditional probabilities for sample 119000 / 199141\n",
            "[t-SNE] Computed conditional probabilities for sample 120000 / 199141\n",
            "[t-SNE] Computed conditional probabilities for sample 121000 / 199141\n",
            "[t-SNE] Computed conditional probabilities for sample 122000 / 199141\n",
            "[t-SNE] Computed conditional probabilities for sample 123000 / 199141\n",
            "[t-SNE] Computed conditional probabilities for sample 124000 / 199141\n",
            "[t-SNE] Computed conditional probabilities for sample 125000 / 199141\n",
            "[t-SNE] Computed conditional probabilities for sample 126000 / 199141\n",
            "[t-SNE] Computed conditional probabilities for sample 127000 / 199141\n",
            "[t-SNE] Computed conditional probabilities for sample 128000 / 199141\n",
            "[t-SNE] Computed conditional probabilities for sample 129000 / 199141\n",
            "[t-SNE] Computed conditional probabilities for sample 130000 / 199141\n",
            "[t-SNE] Computed conditional probabilities for sample 131000 / 199141\n",
            "[t-SNE] Computed conditional probabilities for sample 132000 / 199141\n",
            "[t-SNE] Computed conditional probabilities for sample 133000 / 199141\n",
            "[t-SNE] Computed conditional probabilities for sample 134000 / 199141\n",
            "[t-SNE] Computed conditional probabilities for sample 135000 / 199141\n",
            "[t-SNE] Computed conditional probabilities for sample 136000 / 199141\n",
            "[t-SNE] Computed conditional probabilities for sample 137000 / 199141\n",
            "[t-SNE] Computed conditional probabilities for sample 138000 / 199141\n",
            "[t-SNE] Computed conditional probabilities for sample 139000 / 199141\n",
            "[t-SNE] Computed conditional probabilities for sample 140000 / 199141\n",
            "[t-SNE] Computed conditional probabilities for sample 141000 / 199141\n",
            "[t-SNE] Computed conditional probabilities for sample 142000 / 199141\n",
            "[t-SNE] Computed conditional probabilities for sample 143000 / 199141\n",
            "[t-SNE] Computed conditional probabilities for sample 144000 / 199141\n",
            "[t-SNE] Computed conditional probabilities for sample 145000 / 199141\n",
            "[t-SNE] Computed conditional probabilities for sample 146000 / 199141\n",
            "[t-SNE] Computed conditional probabilities for sample 147000 / 199141\n",
            "[t-SNE] Computed conditional probabilities for sample 148000 / 199141\n",
            "[t-SNE] Computed conditional probabilities for sample 149000 / 199141\n",
            "[t-SNE] Computed conditional probabilities for sample 150000 / 199141\n",
            "[t-SNE] Computed conditional probabilities for sample 151000 / 199141\n",
            "[t-SNE] Computed conditional probabilities for sample 152000 / 199141\n",
            "[t-SNE] Computed conditional probabilities for sample 153000 / 199141\n",
            "[t-SNE] Computed conditional probabilities for sample 154000 / 199141\n",
            "[t-SNE] Computed conditional probabilities for sample 155000 / 199141\n",
            "[t-SNE] Computed conditional probabilities for sample 156000 / 199141\n",
            "[t-SNE] Computed conditional probabilities for sample 157000 / 199141\n",
            "[t-SNE] Computed conditional probabilities for sample 158000 / 199141\n",
            "[t-SNE] Computed conditional probabilities for sample 159000 / 199141\n",
            "[t-SNE] Computed conditional probabilities for sample 160000 / 199141\n",
            "[t-SNE] Computed conditional probabilities for sample 161000 / 199141\n",
            "[t-SNE] Computed conditional probabilities for sample 162000 / 199141\n",
            "[t-SNE] Computed conditional probabilities for sample 163000 / 199141\n",
            "[t-SNE] Computed conditional probabilities for sample 164000 / 199141\n",
            "[t-SNE] Computed conditional probabilities for sample 165000 / 199141\n",
            "[t-SNE] Computed conditional probabilities for sample 166000 / 199141\n",
            "[t-SNE] Computed conditional probabilities for sample 167000 / 199141\n",
            "[t-SNE] Computed conditional probabilities for sample 168000 / 199141\n",
            "[t-SNE] Computed conditional probabilities for sample 169000 / 199141\n",
            "[t-SNE] Computed conditional probabilities for sample 170000 / 199141\n",
            "[t-SNE] Computed conditional probabilities for sample 171000 / 199141\n",
            "[t-SNE] Computed conditional probabilities for sample 172000 / 199141\n",
            "[t-SNE] Computed conditional probabilities for sample 173000 / 199141\n",
            "[t-SNE] Computed conditional probabilities for sample 174000 / 199141\n",
            "[t-SNE] Computed conditional probabilities for sample 175000 / 199141\n",
            "[t-SNE] Computed conditional probabilities for sample 176000 / 199141\n",
            "[t-SNE] Computed conditional probabilities for sample 177000 / 199141\n",
            "[t-SNE] Computed conditional probabilities for sample 178000 / 199141\n",
            "[t-SNE] Computed conditional probabilities for sample 179000 / 199141\n",
            "[t-SNE] Computed conditional probabilities for sample 180000 / 199141\n",
            "[t-SNE] Computed conditional probabilities for sample 181000 / 199141\n",
            "[t-SNE] Computed conditional probabilities for sample 182000 / 199141\n",
            "[t-SNE] Computed conditional probabilities for sample 183000 / 199141\n",
            "[t-SNE] Computed conditional probabilities for sample 184000 / 199141\n",
            "[t-SNE] Computed conditional probabilities for sample 185000 / 199141\n",
            "[t-SNE] Computed conditional probabilities for sample 186000 / 199141\n",
            "[t-SNE] Computed conditional probabilities for sample 187000 / 199141\n",
            "[t-SNE] Computed conditional probabilities for sample 188000 / 199141\n",
            "[t-SNE] Computed conditional probabilities for sample 189000 / 199141\n",
            "[t-SNE] Computed conditional probabilities for sample 190000 / 199141\n",
            "[t-SNE] Computed conditional probabilities for sample 191000 / 199141\n",
            "[t-SNE] Computed conditional probabilities for sample 192000 / 199141\n",
            "[t-SNE] Computed conditional probabilities for sample 193000 / 199141\n",
            "[t-SNE] Computed conditional probabilities for sample 194000 / 199141\n",
            "[t-SNE] Computed conditional probabilities for sample 195000 / 199141\n",
            "[t-SNE] Computed conditional probabilities for sample 196000 / 199141\n",
            "[t-SNE] Computed conditional probabilities for sample 197000 / 199141\n",
            "[t-SNE] Computed conditional probabilities for sample 198000 / 199141\n",
            "[t-SNE] Computed conditional probabilities for sample 199000 / 199141\n",
            "[t-SNE] Computed conditional probabilities for sample 199141 / 199141\n",
            "[t-SNE] Mean sigma: 0.000000\n",
            "[t-SNE] KL divergence after 50 iterations with early exaggeration: 121.546249\n"
          ]
        },
        {
          "output_type": "error",
          "ename": "KeyboardInterrupt",
          "evalue": "ignored",
          "traceback": [
            "\u001b[0;31m---------------------------------------------------------------------------\u001b[0m",
            "\u001b[0;31mKeyboardInterrupt\u001b[0m                         Traceback (most recent call last)",
            "\u001b[0;32m<ipython-input-73-022ad65a5247>\u001b[0m in \u001b[0;36m<module>\u001b[0;34m()\u001b[0m\n\u001b[1;32m      1\u001b[0m tsne_lda_model = TSNE(n_components=2, perplexity=50, learning_rate=100, \n\u001b[1;32m      2\u001b[0m                         n_iter=2000, verbose=1, random_state=0, angle=0.75)\n\u001b[0;32m----> 3\u001b[0;31m \u001b[0mtsne_lda_vectors\u001b[0m \u001b[0;34m=\u001b[0m \u001b[0mtsne_lda_model\u001b[0m\u001b[0;34m.\u001b[0m\u001b[0mfit_transform\u001b[0m\u001b[0;34m(\u001b[0m\u001b[0mlda_topic_matrix\u001b[0m\u001b[0;34m)\u001b[0m\u001b[0;34m\u001b[0m\u001b[0;34m\u001b[0m\u001b[0m\n\u001b[0m",
            "\u001b[0;32m/usr/local/lib/python3.7/dist-packages/sklearn/manifold/_t_sne.py\u001b[0m in \u001b[0;36mfit_transform\u001b[0;34m(self, X, y)\u001b[0m\n\u001b[1;32m   1106\u001b[0m             \u001b[0mEmbedding\u001b[0m \u001b[0mof\u001b[0m \u001b[0mthe\u001b[0m \u001b[0mtraining\u001b[0m \u001b[0mdata\u001b[0m \u001b[0;32min\u001b[0m \u001b[0mlow\u001b[0m\u001b[0;34m-\u001b[0m\u001b[0mdimensional\u001b[0m \u001b[0mspace\u001b[0m\u001b[0;34m.\u001b[0m\u001b[0;34m\u001b[0m\u001b[0;34m\u001b[0m\u001b[0m\n\u001b[1;32m   1107\u001b[0m         \"\"\"\n\u001b[0;32m-> 1108\u001b[0;31m         \u001b[0membedding\u001b[0m \u001b[0;34m=\u001b[0m \u001b[0mself\u001b[0m\u001b[0;34m.\u001b[0m\u001b[0m_fit\u001b[0m\u001b[0;34m(\u001b[0m\u001b[0mX\u001b[0m\u001b[0;34m)\u001b[0m\u001b[0;34m\u001b[0m\u001b[0;34m\u001b[0m\u001b[0m\n\u001b[0m\u001b[1;32m   1109\u001b[0m         \u001b[0mself\u001b[0m\u001b[0;34m.\u001b[0m\u001b[0membedding_\u001b[0m \u001b[0;34m=\u001b[0m \u001b[0membedding\u001b[0m\u001b[0;34m\u001b[0m\u001b[0;34m\u001b[0m\u001b[0m\n\u001b[1;32m   1110\u001b[0m         \u001b[0;32mreturn\u001b[0m \u001b[0mself\u001b[0m\u001b[0;34m.\u001b[0m\u001b[0membedding_\u001b[0m\u001b[0;34m\u001b[0m\u001b[0;34m\u001b[0m\u001b[0m\n",
            "\u001b[0;32m/usr/local/lib/python3.7/dist-packages/sklearn/manifold/_t_sne.py\u001b[0m in \u001b[0;36m_fit\u001b[0;34m(self, X, skip_num_points)\u001b[0m\n\u001b[1;32m   1008\u001b[0m             \u001b[0mX_embedded\u001b[0m\u001b[0;34m=\u001b[0m\u001b[0mX_embedded\u001b[0m\u001b[0;34m,\u001b[0m\u001b[0;34m\u001b[0m\u001b[0;34m\u001b[0m\u001b[0m\n\u001b[1;32m   1009\u001b[0m             \u001b[0mneighbors\u001b[0m\u001b[0;34m=\u001b[0m\u001b[0mneighbors_nn\u001b[0m\u001b[0;34m,\u001b[0m\u001b[0;34m\u001b[0m\u001b[0;34m\u001b[0m\u001b[0m\n\u001b[0;32m-> 1010\u001b[0;31m             \u001b[0mskip_num_points\u001b[0m\u001b[0;34m=\u001b[0m\u001b[0mskip_num_points\u001b[0m\u001b[0;34m,\u001b[0m\u001b[0;34m\u001b[0m\u001b[0;34m\u001b[0m\u001b[0m\n\u001b[0m\u001b[1;32m   1011\u001b[0m         )\n\u001b[1;32m   1012\u001b[0m \u001b[0;34m\u001b[0m\u001b[0m\n",
            "\u001b[0;32m/usr/local/lib/python3.7/dist-packages/sklearn/manifold/_t_sne.py\u001b[0m in \u001b[0;36m_tsne\u001b[0;34m(self, P, degrees_of_freedom, n_samples, X_embedded, neighbors, skip_num_points)\u001b[0m\n\u001b[1;32m   1070\u001b[0m             \u001b[0mopt_args\u001b[0m\u001b[0;34m[\u001b[0m\u001b[0;34m\"momentum\"\u001b[0m\u001b[0;34m]\u001b[0m \u001b[0;34m=\u001b[0m \u001b[0;36m0.8\u001b[0m\u001b[0;34m\u001b[0m\u001b[0;34m\u001b[0m\u001b[0m\n\u001b[1;32m   1071\u001b[0m             \u001b[0mopt_args\u001b[0m\u001b[0;34m[\u001b[0m\u001b[0;34m\"n_iter_without_progress\"\u001b[0m\u001b[0;34m]\u001b[0m \u001b[0;34m=\u001b[0m \u001b[0mself\u001b[0m\u001b[0;34m.\u001b[0m\u001b[0mn_iter_without_progress\u001b[0m\u001b[0;34m\u001b[0m\u001b[0;34m\u001b[0m\u001b[0m\n\u001b[0;32m-> 1072\u001b[0;31m             \u001b[0mparams\u001b[0m\u001b[0;34m,\u001b[0m \u001b[0mkl_divergence\u001b[0m\u001b[0;34m,\u001b[0m \u001b[0mit\u001b[0m \u001b[0;34m=\u001b[0m \u001b[0m_gradient_descent\u001b[0m\u001b[0;34m(\u001b[0m\u001b[0mobj_func\u001b[0m\u001b[0;34m,\u001b[0m \u001b[0mparams\u001b[0m\u001b[0;34m,\u001b[0m \u001b[0;34m**\u001b[0m\u001b[0mopt_args\u001b[0m\u001b[0;34m)\u001b[0m\u001b[0;34m\u001b[0m\u001b[0;34m\u001b[0m\u001b[0m\n\u001b[0m\u001b[1;32m   1073\u001b[0m \u001b[0;34m\u001b[0m\u001b[0m\n\u001b[1;32m   1074\u001b[0m         \u001b[0;31m# Save the final number of iterations\u001b[0m\u001b[0;34m\u001b[0m\u001b[0;34m\u001b[0m\u001b[0;34m\u001b[0m\u001b[0m\n",
            "\u001b[0;32m/usr/local/lib/python3.7/dist-packages/sklearn/manifold/_t_sne.py\u001b[0m in \u001b[0;36m_gradient_descent\u001b[0;34m(objective, p0, it, n_iter, n_iter_check, n_iter_without_progress, momentum, learning_rate, min_gain, min_grad_norm, verbose, args, kwargs)\u001b[0m\n\u001b[1;32m    396\u001b[0m         \u001b[0mkwargs\u001b[0m\u001b[0;34m[\u001b[0m\u001b[0;34m\"compute_error\"\u001b[0m\u001b[0;34m]\u001b[0m \u001b[0;34m=\u001b[0m \u001b[0mcheck_convergence\u001b[0m \u001b[0;32mor\u001b[0m \u001b[0mi\u001b[0m \u001b[0;34m==\u001b[0m \u001b[0mn_iter\u001b[0m \u001b[0;34m-\u001b[0m \u001b[0;36m1\u001b[0m\u001b[0;34m\u001b[0m\u001b[0;34m\u001b[0m\u001b[0m\n\u001b[1;32m    397\u001b[0m \u001b[0;34m\u001b[0m\u001b[0m\n\u001b[0;32m--> 398\u001b[0;31m         \u001b[0merror\u001b[0m\u001b[0;34m,\u001b[0m \u001b[0mgrad\u001b[0m \u001b[0;34m=\u001b[0m \u001b[0mobjective\u001b[0m\u001b[0;34m(\u001b[0m\u001b[0mp\u001b[0m\u001b[0;34m,\u001b[0m \u001b[0;34m*\u001b[0m\u001b[0margs\u001b[0m\u001b[0;34m,\u001b[0m \u001b[0;34m**\u001b[0m\u001b[0mkwargs\u001b[0m\u001b[0;34m)\u001b[0m\u001b[0;34m\u001b[0m\u001b[0;34m\u001b[0m\u001b[0m\n\u001b[0m\u001b[1;32m    399\u001b[0m         \u001b[0mgrad_norm\u001b[0m \u001b[0;34m=\u001b[0m \u001b[0mlinalg\u001b[0m\u001b[0;34m.\u001b[0m\u001b[0mnorm\u001b[0m\u001b[0;34m(\u001b[0m\u001b[0mgrad\u001b[0m\u001b[0;34m)\u001b[0m\u001b[0;34m\u001b[0m\u001b[0;34m\u001b[0m\u001b[0m\n\u001b[1;32m    400\u001b[0m \u001b[0;34m\u001b[0m\u001b[0m\n",
            "\u001b[0;32m/usr/local/lib/python3.7/dist-packages/sklearn/manifold/_t_sne.py\u001b[0m in \u001b[0;36m_kl_divergence_bh\u001b[0;34m(params, P, degrees_of_freedom, n_samples, n_components, angle, skip_num_points, verbose, compute_error, num_threads)\u001b[0m\n\u001b[1;32m    288\u001b[0m         \u001b[0mdof\u001b[0m\u001b[0;34m=\u001b[0m\u001b[0mdegrees_of_freedom\u001b[0m\u001b[0;34m,\u001b[0m\u001b[0;34m\u001b[0m\u001b[0;34m\u001b[0m\u001b[0m\n\u001b[1;32m    289\u001b[0m         \u001b[0mcompute_error\u001b[0m\u001b[0;34m=\u001b[0m\u001b[0mcompute_error\u001b[0m\u001b[0;34m,\u001b[0m\u001b[0;34m\u001b[0m\u001b[0;34m\u001b[0m\u001b[0m\n\u001b[0;32m--> 290\u001b[0;31m         \u001b[0mnum_threads\u001b[0m\u001b[0;34m=\u001b[0m\u001b[0mnum_threads\u001b[0m\u001b[0;34m,\u001b[0m\u001b[0;34m\u001b[0m\u001b[0;34m\u001b[0m\u001b[0m\n\u001b[0m\u001b[1;32m    291\u001b[0m     )\n\u001b[1;32m    292\u001b[0m     \u001b[0mc\u001b[0m \u001b[0;34m=\u001b[0m \u001b[0;36m2.0\u001b[0m \u001b[0;34m*\u001b[0m \u001b[0;34m(\u001b[0m\u001b[0mdegrees_of_freedom\u001b[0m \u001b[0;34m+\u001b[0m \u001b[0;36m1.0\u001b[0m\u001b[0;34m)\u001b[0m \u001b[0;34m/\u001b[0m \u001b[0mdegrees_of_freedom\u001b[0m\u001b[0;34m\u001b[0m\u001b[0;34m\u001b[0m\u001b[0m\n",
            "\u001b[0;31mKeyboardInterrupt\u001b[0m: "
          ]
        }
      ]
    },
    {
      "cell_type": "code",
      "source": [
        "def get_mean_topic_vectors(keys, two_dim_vectors):\n",
        "    '''\n",
        "    returns a list of centroid vectors from each predicted topic category\n",
        "    '''\n",
        "    mean_topic_vectors = []\n",
        "    for t in range(n_topics):\n",
        "        articles_in_that_topic = []\n",
        "        for i in range(len(keys)):\n",
        "            if keys[i] == t:\n",
        "                articles_in_that_topic.append(two_dim_vectors[i])    \n",
        "        \n",
        "        articles_in_that_topic = np.vstack(articles_in_that_topic)\n",
        "        mean_article_in_that_topic = np.mean(articles_in_that_topic, axis=0)\n",
        "        mean_topic_vectors.append(mean_article_in_that_topic)\n",
        "    return mean_topic_vectors"
      ],
      "metadata": {
        "id": "tPwDLN3vTKEH"
      },
      "execution_count": null,
      "outputs": []
    },
    {
      "cell_type": "code",
      "source": [
        "top_3_words_lda = get_top_n_words(3, lda_keys, small_document_term_matrix, small_count_vectorizer)\n",
        "lda_mean_topic_vectors = get_mean_topic_vectors(lda_keys, tsne_lda_vectors)\n",
        "\n",
        "plot = figure(title=\"t-SNE Clustering of {} LDA Topics\".format(n_topics), plot_width=700, plot_height=700)\n",
        "plot.scatter(x=tsne_lda_vectors[:,0], y=tsne_lda_vectors[:,1], color=colormap[lda_keys])\n",
        "\n",
        "for t in range(n_topics):\n",
        "    label = Label(x=lda_mean_topic_vectors[t][0], y=lda_mean_topic_vectors[t][1], \n",
        "                  text=top_3_words_lda[t], text_color=colormap[t])\n",
        "    plot.add_layout(label)\n",
        "\n",
        "show(plot)"
      ],
      "metadata": {
        "colab": {
          "base_uri": "https://localhost:8080/",
          "height": 234
        },
        "id": "RFpR8U1pNI4C",
        "outputId": "e197da77-bb93-4f33-aa7a-01be63e30523"
      },
      "execution_count": 72,
      "outputs": [
        {
          "output_type": "error",
          "ename": "NameError",
          "evalue": "ignored",
          "traceback": [
            "\u001b[0;31m---------------------------------------------------------------------------\u001b[0m",
            "\u001b[0;31mNameError\u001b[0m                                 Traceback (most recent call last)",
            "\u001b[0;32m<ipython-input-72-6a4b82cbfa3d>\u001b[0m in \u001b[0;36m<module>\u001b[0;34m()\u001b[0m\n\u001b[1;32m      1\u001b[0m \u001b[0mtop_3_words_lda\u001b[0m \u001b[0;34m=\u001b[0m \u001b[0mget_top_n_words\u001b[0m\u001b[0;34m(\u001b[0m\u001b[0;36m3\u001b[0m\u001b[0;34m,\u001b[0m \u001b[0mlda_keys\u001b[0m\u001b[0;34m,\u001b[0m \u001b[0msmall_document_term_matrix\u001b[0m\u001b[0;34m,\u001b[0m \u001b[0msmall_count_vectorizer\u001b[0m\u001b[0;34m)\u001b[0m\u001b[0;34m\u001b[0m\u001b[0;34m\u001b[0m\u001b[0m\n\u001b[0;32m----> 2\u001b[0;31m \u001b[0mlda_mean_topic_vectors\u001b[0m \u001b[0;34m=\u001b[0m \u001b[0mget_mean_topic_vectors\u001b[0m\u001b[0;34m(\u001b[0m\u001b[0mlda_keys\u001b[0m\u001b[0;34m,\u001b[0m \u001b[0mtsne_lda_vectors\u001b[0m\u001b[0;34m)\u001b[0m\u001b[0;34m\u001b[0m\u001b[0;34m\u001b[0m\u001b[0m\n\u001b[0m\u001b[1;32m      3\u001b[0m \u001b[0;34m\u001b[0m\u001b[0m\n\u001b[1;32m      4\u001b[0m \u001b[0mplot\u001b[0m \u001b[0;34m=\u001b[0m \u001b[0mfigure\u001b[0m\u001b[0;34m(\u001b[0m\u001b[0mtitle\u001b[0m\u001b[0;34m=\u001b[0m\u001b[0;34m\"t-SNE Clustering of {} LDA Topics\"\u001b[0m\u001b[0;34m.\u001b[0m\u001b[0mformat\u001b[0m\u001b[0;34m(\u001b[0m\u001b[0mn_topics\u001b[0m\u001b[0;34m)\u001b[0m\u001b[0;34m,\u001b[0m \u001b[0mplot_width\u001b[0m\u001b[0;34m=\u001b[0m\u001b[0;36m700\u001b[0m\u001b[0;34m,\u001b[0m \u001b[0mplot_height\u001b[0m\u001b[0;34m=\u001b[0m\u001b[0;36m700\u001b[0m\u001b[0;34m)\u001b[0m\u001b[0;34m\u001b[0m\u001b[0;34m\u001b[0m\u001b[0m\n\u001b[1;32m      5\u001b[0m \u001b[0mplot\u001b[0m\u001b[0;34m.\u001b[0m\u001b[0mscatter\u001b[0m\u001b[0;34m(\u001b[0m\u001b[0mx\u001b[0m\u001b[0;34m=\u001b[0m\u001b[0mtsne_lda_vectors\u001b[0m\u001b[0;34m[\u001b[0m\u001b[0;34m:\u001b[0m\u001b[0;34m,\u001b[0m\u001b[0;36m0\u001b[0m\u001b[0;34m]\u001b[0m\u001b[0;34m,\u001b[0m \u001b[0my\u001b[0m\u001b[0;34m=\u001b[0m\u001b[0mtsne_lda_vectors\u001b[0m\u001b[0;34m[\u001b[0m\u001b[0;34m:\u001b[0m\u001b[0;34m,\u001b[0m\u001b[0;36m1\u001b[0m\u001b[0;34m]\u001b[0m\u001b[0;34m,\u001b[0m \u001b[0mcolor\u001b[0m\u001b[0;34m=\u001b[0m\u001b[0mcolormap\u001b[0m\u001b[0;34m[\u001b[0m\u001b[0mlda_keys\u001b[0m\u001b[0;34m]\u001b[0m\u001b[0;34m)\u001b[0m\u001b[0;34m\u001b[0m\u001b[0;34m\u001b[0m\u001b[0m\n",
            "\u001b[0;31mNameError\u001b[0m: name 'get_mean_topic_vectors' is not defined"
          ]
        }
      ]
    }
  ]
}