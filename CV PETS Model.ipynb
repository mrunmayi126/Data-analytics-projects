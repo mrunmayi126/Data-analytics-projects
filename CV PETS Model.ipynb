{
 "cells": [
  {
   "cell_type": "code",
   "execution_count": 1,
   "metadata": {},
   "outputs": [],
   "source": [
    "import matplotlib.pyplot as plt\n",
    "import numpy as np\n",
    "import PIL\n",
    "import os\n",
    "import tensorflow as tf\n",
    "import pathlib\n",
    "import cv2\n",
    "import numpy as np\n",
    "import glob"
   ]
  },
  {
   "cell_type": "code",
   "execution_count": 2,
   "metadata": {},
   "outputs": [
    {
     "name": "stdout",
     "output_type": "stream",
     "text": [
      "D:\\Computer Vision\\train\\cat.0.jpg\n",
      "D:\\Computer Vision\\train\n"
     ]
    }
   ],
   "source": [
    "file = r\"D:\\Computer Vision\\train\\cat.0.jpg\"\n",
    "print(file)\n",
    "print(os.path.dirname(file))\n",
    "\n",
    "## we are using train data for cats and dogs as whole data."
   ]
  },
  {
   "cell_type": "code",
   "execution_count": 3,
   "metadata": {},
   "outputs": [],
   "source": [
    "import random\n",
    "\n",
    "# loop through all files, append, resize and normalize\n",
    "\n",
    "filenames = []\n",
    "labels = []\n",
    "images = []\n",
    "\n",
    "my_path = r\"D:\\Computer Vision\\train\"\n",
    "files = glob.glob(my_path + '\\**\\*.jpg', recursive=True)\n",
    "random.shuffle(files)\n",
    "\n",
    "i = 0  # limiting array size to 10000, because i = i+1, assign 0 outside loop\n",
    "\n",
    "#for file in files:\n",
    "    #print(file)\n",
    "    #i = i+1 \n",
    "    #if i>10000:       # file has 25k images, we took 10000, comment out loop to take all 25k\n",
    "        #break\n",
    "   #folder = os.path.dirname(file)\n",
    "    #if \"cat\" in file:\n",
    "        #label = 0\n",
    "    #else:\n",
    "        #label = 1\n",
    "    \n",
    "    #image = cv2.imread(file)\n",
    "    #print(image.shape)\n",
    "    image = cv2.resize(image,(100,100)) # resizing to 100,100  because of out of memory error\n",
    "    filenames.append(file)\n",
    "    labels.append(label)\n",
    "    images.append(image)\n",
    "#for i in range(len(filenames)):\n",
    "    #print(filenames[i], labels[i])\n",
    "#print(image[0])\n",
    "#print(images[0].shape) #print these to see what data looks like\n",
    "\n",
    "images_arr = np.array(images)\n",
    "images_arr = images_arr/255.0  # Normalising\n",
    "# divide by 255.0 instead of 255 so that we get float\n",
    "# check the commented out codes to view steps\n",
    "\n",
    "## Now we have succesfully converted images to image-label pairs making it a data to work on.\n"
   ]
  },
  {
   "cell_type": "code",
   "execution_count": 4,
   "metadata": {},
   "outputs": [
    {
     "data": {
      "text/plain": [
       "array([[[[0.63137255, 0.63529412, 0.62745098],\n",
       "         [0.58431373, 0.58823529, 0.58039216],\n",
       "         [0.56470588, 0.56862745, 0.56078431],\n",
       "         ...,\n",
       "         [0.05490196, 0.05882353, 0.05098039],\n",
       "         [0.05098039, 0.05490196, 0.04705882],\n",
       "         [0.04705882, 0.05098039, 0.04313725]],\n",
       "\n",
       "        [[0.65098039, 0.65098039, 0.64313725],\n",
       "         [0.62745098, 0.63137255, 0.62352941],\n",
       "         [0.5372549 , 0.54117647, 0.53333333],\n",
       "         ...,\n",
       "         [0.05490196, 0.05882353, 0.04705882],\n",
       "         [0.05882353, 0.0627451 , 0.05490196],\n",
       "         [0.05098039, 0.05490196, 0.04705882]],\n",
       "\n",
       "        [[0.66666667, 0.67058824, 0.6627451 ],\n",
       "         [0.65882353, 0.6627451 , 0.65490196],\n",
       "         [0.52941176, 0.53333333, 0.5254902 ],\n",
       "         ...,\n",
       "         [0.0745098 , 0.07843137, 0.07058824],\n",
       "         [0.06666667, 0.07058824, 0.0627451 ],\n",
       "         [0.0627451 , 0.06666667, 0.05882353]],\n",
       "\n",
       "        ...,\n",
       "\n",
       "        [[0.39215686, 0.43137255, 0.43137255],\n",
       "         [0.40784314, 0.44705882, 0.44705882],\n",
       "         [0.41176471, 0.45098039, 0.45098039],\n",
       "         ...,\n",
       "         [0.29019608, 0.3372549 , 0.35294118],\n",
       "         [0.2745098 , 0.32156863, 0.3372549 ],\n",
       "         [0.25098039, 0.29803922, 0.31372549]],\n",
       "\n",
       "        [[0.37647059, 0.41568627, 0.41568627],\n",
       "         [0.39215686, 0.43137255, 0.43137255],\n",
       "         [0.40392157, 0.44313725, 0.44313725],\n",
       "         ...,\n",
       "         [0.2627451 , 0.30980392, 0.3254902 ],\n",
       "         [0.25882353, 0.30588235, 0.32156863],\n",
       "         [0.24313725, 0.29019608, 0.30588235]],\n",
       "\n",
       "        [[0.37254902, 0.41176471, 0.41176471],\n",
       "         [0.38431373, 0.42352941, 0.42352941],\n",
       "         [0.40784314, 0.44705882, 0.44705882],\n",
       "         ...,\n",
       "         [0.25098039, 0.29803922, 0.31372549],\n",
       "         [0.23137255, 0.28235294, 0.29803922],\n",
       "         [0.22352941, 0.27058824, 0.28627451]]],\n",
       "\n",
       "\n",
       "       [[[0.00784314, 0.00784314, 0.00784314],\n",
       "         [0.00784314, 0.00784314, 0.00784314],\n",
       "         [0.01960784, 0.01960784, 0.01960784],\n",
       "         ...,\n",
       "         [0.08235294, 0.08235294, 0.08235294],\n",
       "         [0.05490196, 0.05490196, 0.05490196],\n",
       "         [0.05490196, 0.05490196, 0.05490196]],\n",
       "\n",
       "        [[0.00784314, 0.00784314, 0.00784314],\n",
       "         [0.00784314, 0.00784314, 0.00784314],\n",
       "         [0.01960784, 0.01960784, 0.01960784],\n",
       "         ...,\n",
       "         [0.08235294, 0.08235294, 0.08235294],\n",
       "         [0.05490196, 0.05490196, 0.05490196],\n",
       "         [0.05490196, 0.05490196, 0.05490196]],\n",
       "\n",
       "        [[0.00784314, 0.00784314, 0.00784314],\n",
       "         [0.00784314, 0.00784314, 0.00784314],\n",
       "         [0.01960784, 0.01960784, 0.01960784],\n",
       "         ...,\n",
       "         [0.08235294, 0.08235294, 0.08235294],\n",
       "         [0.05490196, 0.05490196, 0.05490196],\n",
       "         [0.05490196, 0.05490196, 0.05490196]],\n",
       "\n",
       "        ...,\n",
       "\n",
       "        [[0.42352941, 0.42745098, 0.41960784],\n",
       "         [0.45490196, 0.45490196, 0.45490196],\n",
       "         [0.48627451, 0.48235294, 0.49803922],\n",
       "         ...,\n",
       "         [0.50980392, 0.51372549, 0.51372549],\n",
       "         [0.40392157, 0.40784314, 0.40784314],\n",
       "         [0.42745098, 0.43921569, 0.43529412]],\n",
       "\n",
       "        [[0.4627451 , 0.46666667, 0.45098039],\n",
       "         [0.41568627, 0.41568627, 0.41568627],\n",
       "         [0.37254902, 0.36862745, 0.38823529],\n",
       "         ...,\n",
       "         [0.43921569, 0.43921569, 0.43921569],\n",
       "         [0.34901961, 0.34117647, 0.34117647],\n",
       "         [0.35686275, 0.34901961, 0.34901961]],\n",
       "\n",
       "        [[0.26666667, 0.27058824, 0.25490196],\n",
       "         [0.25098039, 0.25098039, 0.25098039],\n",
       "         [0.31764706, 0.30980392, 0.3372549 ],\n",
       "         ...,\n",
       "         [0.27058824, 0.27058824, 0.27058824],\n",
       "         [0.24313725, 0.23137255, 0.23137255],\n",
       "         [0.29019608, 0.27058824, 0.2745098 ]]],\n",
       "\n",
       "\n",
       "       [[[0.11764706, 0.1254902 , 0.14117647],\n",
       "         [0.10980392, 0.14117647, 0.15686275],\n",
       "         [0.12941176, 0.14117647, 0.15686275],\n",
       "         ...,\n",
       "         [0.07843137, 0.07058824, 0.06666667],\n",
       "         [0.07058824, 0.0627451 , 0.05882353],\n",
       "         [0.0627451 , 0.0627451 , 0.0627451 ]],\n",
       "\n",
       "        [[0.0745098 , 0.08235294, 0.08627451],\n",
       "         [0.07058824, 0.10980392, 0.10980392],\n",
       "         [0.09019608, 0.09803922, 0.10196078],\n",
       "         ...,\n",
       "         [0.07843137, 0.07058824, 0.06666667],\n",
       "         [0.07058824, 0.0627451 , 0.05882353],\n",
       "         [0.0627451 , 0.0627451 , 0.0627451 ]],\n",
       "\n",
       "        [[0.08235294, 0.0745098 , 0.0745098 ],\n",
       "         [0.0627451 , 0.08627451, 0.08235294],\n",
       "         [0.08235294, 0.08235294, 0.08235294],\n",
       "         ...,\n",
       "         [0.08235294, 0.0745098 , 0.07058824],\n",
       "         [0.0745098 , 0.06666667, 0.0627451 ],\n",
       "         [0.0627451 , 0.0627451 , 0.0627451 ]],\n",
       "\n",
       "        ...,\n",
       "\n",
       "        [[0.84313725, 0.85098039, 0.85490196],\n",
       "         [0.85882353, 0.86666667, 0.87058824],\n",
       "         [0.86666667, 0.8745098 , 0.87843137],\n",
       "         ...,\n",
       "         [0.67843137, 0.6745098 , 0.68235294],\n",
       "         [0.70588235, 0.70196078, 0.70980392],\n",
       "         [0.70980392, 0.70588235, 0.72156863]],\n",
       "\n",
       "        [[0.85882353, 0.86666667, 0.87058824],\n",
       "         [0.85882353, 0.86666667, 0.87058824],\n",
       "         [0.84705882, 0.85490196, 0.85882353],\n",
       "         ...,\n",
       "         [0.69411765, 0.69411765, 0.69411765],\n",
       "         [0.7254902 , 0.7254902 , 0.7254902 ],\n",
       "         [0.7254902 , 0.71372549, 0.72156863]],\n",
       "\n",
       "        [[0.84705882, 0.85490196, 0.85882353],\n",
       "         [0.83137255, 0.83921569, 0.84313725],\n",
       "         [0.84313725, 0.85098039, 0.85490196],\n",
       "         ...,\n",
       "         [0.73333333, 0.73333333, 0.73333333],\n",
       "         [0.74901961, 0.74901961, 0.74901961],\n",
       "         [0.7372549 , 0.7254902 , 0.73333333]]],\n",
       "\n",
       "\n",
       "       ...,\n",
       "\n",
       "\n",
       "       [[[0.27058824, 0.27058824, 0.27058824],\n",
       "         [0.27058824, 0.27058824, 0.27058824],\n",
       "         [0.25882353, 0.25882353, 0.25882353],\n",
       "         ...,\n",
       "         [0.41176471, 0.40392157, 0.45098039],\n",
       "         [0.45882353, 0.45098039, 0.49803922],\n",
       "         [0.42352941, 0.41176471, 0.47058824]],\n",
       "\n",
       "        [[0.26666667, 0.26666667, 0.26666667],\n",
       "         [0.25098039, 0.25098039, 0.25098039],\n",
       "         [0.23529412, 0.23529412, 0.23529412],\n",
       "         ...,\n",
       "         [0.39215686, 0.36078431, 0.40392157],\n",
       "         [0.47058824, 0.45490196, 0.48235294],\n",
       "         [0.39215686, 0.36470588, 0.40784314]],\n",
       "\n",
       "        [[0.27843137, 0.27843137, 0.27843137],\n",
       "         [0.27058824, 0.27058824, 0.27058824],\n",
       "         [0.24705882, 0.24705882, 0.24705882],\n",
       "         ...,\n",
       "         [0.41568627, 0.37254902, 0.38431373],\n",
       "         [0.44313725, 0.41176471, 0.41568627],\n",
       "         [0.38823529, 0.34117647, 0.36470588]],\n",
       "\n",
       "        ...,\n",
       "\n",
       "        [[0.45882353, 0.41568627, 0.42352941],\n",
       "         [0.42745098, 0.41176471, 0.39607843],\n",
       "         [0.40784314, 0.4       , 0.39607843],\n",
       "         ...,\n",
       "         [0.49803922, 0.50980392, 0.52941176],\n",
       "         [0.4745098 , 0.47058824, 0.48627451],\n",
       "         [0.60784314, 0.60392157, 0.61960784]],\n",
       "\n",
       "        [[0.36862745, 0.31764706, 0.30980392],\n",
       "         [0.6627451 , 0.62352941, 0.62745098],\n",
       "         [0.38039216, 0.36470588, 0.34901961],\n",
       "         ...,\n",
       "         [0.43137255, 0.43921569, 0.46666667],\n",
       "         [0.24705882, 0.23921569, 0.25490196],\n",
       "         [0.2627451 , 0.27058824, 0.30196078]],\n",
       "\n",
       "        [[0.29411765, 0.2745098 , 0.25490196],\n",
       "         [0.42352941, 0.37647059, 0.4       ],\n",
       "         [0.42352941, 0.37254902, 0.36078431],\n",
       "         ...,\n",
       "         [0.3372549 , 0.35686275, 0.35294118],\n",
       "         [0.41960784, 0.41960784, 0.4       ],\n",
       "         [0.30980392, 0.31372549, 0.32941176]]],\n",
       "\n",
       "\n",
       "       [[[0.58431373, 0.75294118, 0.84313725],\n",
       "         [0.48627451, 0.63137255, 0.72156863],\n",
       "         [0.56470588, 0.66666667, 0.74901961],\n",
       "         ...,\n",
       "         [0.57254902, 0.73333333, 0.82745098],\n",
       "         [0.55686275, 0.70588235, 0.81960784],\n",
       "         [0.56470588, 0.69803922, 0.81568627]],\n",
       "\n",
       "        [[0.56078431, 0.7372549 , 0.82745098],\n",
       "         [0.56078431, 0.70980392, 0.79607843],\n",
       "         [0.4745098 , 0.58039216, 0.66666667],\n",
       "         ...,\n",
       "         [0.58431373, 0.72941176, 0.84313725],\n",
       "         [0.53333333, 0.67058824, 0.78823529],\n",
       "         [0.56470588, 0.69803922, 0.81568627]],\n",
       "\n",
       "        [[0.55294118, 0.73333333, 0.82352941],\n",
       "         [0.5372549 , 0.69803922, 0.78431373],\n",
       "         [0.41960784, 0.54901961, 0.63137255],\n",
       "         ...,\n",
       "         [0.60784314, 0.74509804, 0.8745098 ],\n",
       "         [0.5254902 , 0.6627451 , 0.78431373],\n",
       "         [0.58431373, 0.71764706, 0.83529412]],\n",
       "\n",
       "        ...,\n",
       "\n",
       "        [[0.6627451 , 0.65098039, 0.64313725],\n",
       "         [0.62352941, 0.61960784, 0.62352941],\n",
       "         [0.54901961, 0.55294118, 0.56862745],\n",
       "         ...,\n",
       "         [0.5372549 , 0.47843137, 0.50980392],\n",
       "         [0.54117647, 0.48627451, 0.51764706],\n",
       "         [0.5372549 , 0.47843137, 0.50980392]],\n",
       "\n",
       "        [[0.68235294, 0.64705882, 0.64705882],\n",
       "         [0.68627451, 0.65882353, 0.66666667],\n",
       "         [0.59607843, 0.58431373, 0.60392157],\n",
       "         ...,\n",
       "         [0.51764706, 0.45490196, 0.49019608],\n",
       "         [0.53333333, 0.47843137, 0.50980392],\n",
       "         [0.52941176, 0.47843137, 0.50980392]],\n",
       "\n",
       "        [[0.6627451 , 0.6627451 , 0.63921569],\n",
       "         [0.6745098 , 0.68235294, 0.6745098 ],\n",
       "         [0.59215686, 0.60392157, 0.60784314],\n",
       "         ...,\n",
       "         [0.51764706, 0.49019608, 0.50588235],\n",
       "         [0.51764706, 0.48627451, 0.49803922],\n",
       "         [0.52156863, 0.49019608, 0.49411765]]],\n",
       "\n",
       "\n",
       "       [[[0.25098039, 0.26666667, 0.20784314],\n",
       "         [0.0627451 , 0.07058824, 0.09803922],\n",
       "         [0.01568627, 0.04705882, 0.04705882],\n",
       "         ...,\n",
       "         [0.04705882, 0.05882353, 0.07843137],\n",
       "         [0.05098039, 0.0627451 , 0.07843137],\n",
       "         [0.04705882, 0.05882353, 0.07843137]],\n",
       "\n",
       "        [[0.2745098 , 0.29019608, 0.23137255],\n",
       "         [0.05490196, 0.0627451 , 0.09019608],\n",
       "         [0.01568627, 0.05098039, 0.04705882],\n",
       "         ...,\n",
       "         [0.04705882, 0.05882353, 0.07843137],\n",
       "         [0.05098039, 0.0627451 , 0.08235294],\n",
       "         [0.04705882, 0.05882353, 0.07843137]],\n",
       "\n",
       "        [[0.30980392, 0.32156863, 0.2627451 ],\n",
       "         [0.05882353, 0.06666667, 0.09411765],\n",
       "         [0.01568627, 0.04705882, 0.04313725],\n",
       "         ...,\n",
       "         [0.05490196, 0.06666667, 0.08627451],\n",
       "         [0.05098039, 0.0627451 , 0.08235294],\n",
       "         [0.04705882, 0.05882353, 0.07843137]],\n",
       "\n",
       "        ...,\n",
       "\n",
       "        [[0.00784314, 0.01568627, 0.03137255],\n",
       "         [0.07058824, 0.03921569, 0.0745098 ],\n",
       "         [0.23529412, 0.18823529, 0.20784314],\n",
       "         ...,\n",
       "         [0.4627451 , 0.48627451, 0.48235294],\n",
       "         [0.47058824, 0.49411765, 0.49019608],\n",
       "         [0.4745098 , 0.49803922, 0.49411765]],\n",
       "\n",
       "        [[0.01176471, 0.01568627, 0.03137255],\n",
       "         [0.06666667, 0.04705882, 0.05490196],\n",
       "         [0.3254902 , 0.29803922, 0.30196078],\n",
       "         ...,\n",
       "         [0.50980392, 0.51764706, 0.50980392],\n",
       "         [0.52941176, 0.5372549 , 0.52941176],\n",
       "         [0.5254902 , 0.53333333, 0.5254902 ]],\n",
       "\n",
       "        [[0.07058824, 0.06666667, 0.07843137],\n",
       "         [0.27058824, 0.25490196, 0.24313725],\n",
       "         [0.3372549 , 0.3254902 , 0.30980392],\n",
       "         ...,\n",
       "         [0.6       , 0.58823529, 0.57647059],\n",
       "         [0.59215686, 0.58039216, 0.56470588],\n",
       "         [0.59215686, 0.58039216, 0.56470588]]]])"
      ]
     },
     "execution_count": 4,
     "metadata": {},
     "output_type": "execute_result"
    }
   ],
   "source": [
    "images_arr"
   ]
  },
  {
   "cell_type": "code",
   "execution_count": 5,
   "metadata": {},
   "outputs": [
    {
     "name": "stdout",
     "output_type": "stream",
     "text": [
      "(10000, 100, 100, 3)\n",
      "float64\n"
     ]
    }
   ],
   "source": [
    "print(images_arr.shape)\n",
    "print(images_arr.dtype)"
   ]
  },
  {
   "cell_type": "code",
   "execution_count": 6,
   "metadata": {},
   "outputs": [],
   "source": [
    "# Now the data has undergone preprocessing, we move on to model building\n",
    "from tensorflow import keras\n",
    "from tensorflow.keras import layers\n",
    "from tensorflow.keras.models import Sequential\n",
    "from keras.layers import Conv2D, MaxPooling2D\n",
    "from keras.layers import Activation, Dropout, Flatten, Dense, BatchNormalization\n",
    "from keras import backend as K"
   ]
  },
  {
   "cell_type": "markdown",
   "metadata": {},
   "source": [
    "## STEP 2 - MODEL DEFINING"
   ]
  },
  {
   "cell_type": "code",
   "execution_count": 7,
   "metadata": {},
   "outputs": [],
   "source": [
    "input_shape = (100,100,3)\n",
    "\n",
    "model=Sequential()\n",
    "model.add(Conv2D(32,(3,3),activation='relu',input_shape=input_shape))\n",
    "model.add(BatchNormalization())\n",
    "model.add(MaxPooling2D(pool_size=(2,2)))\n",
    "model.add(Dropout(0.25))\n",
    "model.add(Conv2D(64,(3,3),activation='relu'))\n",
    "model.add(BatchNormalization())\n",
    "model.add(MaxPooling2D(pool_size=(2,2)))\n",
    "model.add(Dropout(0.25))\n",
    "model.add(Conv2D(128,(3,3),activation='relu'))\n",
    "model.add(BatchNormalization())\n",
    "model.add(MaxPooling2D(pool_size=(2,2)))\n",
    "model.add(Dropout(0.25))\n",
    "model.add(Flatten())\n",
    "model.add(Dense(512,activation='relu'))\n",
    "model.add(BatchNormalization())\n",
    "model.add(Dropout(0.5))\n",
    "model.add(Dense(2,activation='softmax'))"
   ]
  },
  {
   "cell_type": "markdown",
   "metadata": {},
   "source": [
    "## STEP 3 - MODEL COMPILING"
   ]
  },
  {
   "cell_type": "code",
   "execution_count": 8,
   "metadata": {},
   "outputs": [],
   "source": [
    "# compile\n",
    "model.compile(loss='sparse_categorical_crossentropy',  # categorical for multiclass, sparse categorical for distinct classes\n",
    "                                                       # binary for binary categorical variable\n",
    "              optimizer='adam',              # ADAM optimizer is a dynamic opt\n",
    "              metrics=['accuracy'])"
   ]
  },
  {
   "cell_type": "markdown",
   "metadata": {},
   "source": [
    "## STEP 4 - MODEL FIT"
   ]
  },
  {
   "cell_type": "code",
   "execution_count": 9,
   "metadata": {},
   "outputs": [
    {
     "name": "stdout",
     "output_type": "stream",
     "text": [
      "Epoch 1/25\n",
      "79/79 [==============================] - 211s 3s/step - loss: 0.8668 - accuracy: 0.6387\n",
      "Epoch 2/25\n",
      "79/79 [==============================] - 208s 3s/step - loss: 0.5896 - accuracy: 0.7202\n",
      "Epoch 3/25\n",
      "79/79 [==============================] - 207s 3s/step - loss: 0.5141 - accuracy: 0.7518\n",
      "Epoch 4/25\n",
      "79/79 [==============================] - 208s 3s/step - loss: 0.4508 - accuracy: 0.7931\n",
      "Epoch 5/25\n",
      "79/79 [==============================] - 2192s 22s/step - loss: 0.4194 - accuracy: 0.8106\n",
      "Epoch 6/25\n",
      "79/79 [==============================] - 206s 3s/step - loss: 0.3890 - accuracy: 0.8267\n",
      "Epoch 7/25\n",
      "79/79 [==============================] - 207s 3s/step - loss: 0.3694 - accuracy: 0.8344\n",
      "Epoch 8/25\n",
      "79/79 [==============================] - 207s 3s/step - loss: 0.3354 - accuracy: 0.8530\n",
      "Epoch 9/25\n",
      "79/79 [==============================] - 207s 3s/step - loss: 0.2955 - accuracy: 0.8757\n",
      "Epoch 10/25\n",
      "79/79 [==============================] - 208s 3s/step - loss: 0.2660 - accuracy: 0.8891\n",
      "Epoch 11/25\n",
      "79/79 [==============================] - 207s 3s/step - loss: 0.2540 - accuracy: 0.8920\n",
      "Epoch 12/25\n",
      "79/79 [==============================] - 207s 3s/step - loss: 0.2256 - accuracy: 0.9080\n",
      "Epoch 13/25\n",
      "79/79 [==============================] - 216s 3s/step - loss: 0.2171 - accuracy: 0.9144\n",
      "Epoch 14/25\n",
      "79/79 [==============================] - 207s 3s/step - loss: 0.1752 - accuracy: 0.9297\n",
      "Epoch 15/25\n",
      "79/79 [==============================] - 208s 3s/step - loss: 0.1619 - accuracy: 0.9357\n",
      "Epoch 16/25\n",
      "79/79 [==============================] - 207s 3s/step - loss: 0.1276 - accuracy: 0.9496\n",
      "Epoch 17/25\n",
      "79/79 [==============================] - 206s 3s/step - loss: 0.1164 - accuracy: 0.9546\n",
      "Epoch 18/25\n",
      "79/79 [==============================] - 207s 3s/step - loss: 0.1130 - accuracy: 0.9574\n",
      "Epoch 19/25\n",
      "79/79 [==============================] - 206s 3s/step - loss: 0.1247 - accuracy: 0.9547\n",
      "Epoch 20/25\n",
      "79/79 [==============================] - 379s 5s/step - loss: 0.1022 - accuracy: 0.9614\n",
      "Epoch 21/25\n",
      "79/79 [==============================] - 565s 7s/step - loss: 0.0918 - accuracy: 0.9658\n",
      "Epoch 22/25\n",
      "79/79 [==============================] - 551s 7s/step - loss: 0.0943 - accuracy: 0.9642\n",
      "Epoch 23/25\n",
      "79/79 [==============================] - 545s 7s/step - loss: 0.1055 - accuracy: 0.9594\n",
      "Epoch 24/25\n",
      "79/79 [==============================] - 544s 7s/step - loss: 0.0768 - accuracy: 0.9731\n",
      "Epoch 25/25\n",
      "79/79 [==============================] - 505s 6s/step - loss: 0.0617 - accuracy: 0.9777\n"
     ]
    }
   ],
   "source": [
    "# Introducing data to the network\n",
    "\n",
    "labels = np.array(labels)\n",
    "\n",
    "history = model.fit(images_arr, labels, batch_size=128, epochs=25)\n",
    "# Try for a batch size of 128 next\n",
    "## 79 here is steps per epoch"
   ]
  },
  {
   "cell_type": "markdown",
   "metadata": {},
   "source": [
    "## SAVE MODEL"
   ]
  },
  {
   "cell_type": "code",
   "execution_count": 10,
   "metadata": {},
   "outputs": [],
   "source": [
    "model.save(\"D:\\Computer Vision\\model2_pets.h5\")\n",
    "# save model after running epochs to avoid warning"
   ]
  },
  {
   "cell_type": "markdown",
   "metadata": {},
   "source": [
    "HDFS file viewer to see weights and biases of your model"
   ]
  },
  {
   "cell_type": "markdown",
   "metadata": {},
   "source": [
    "## View training testing graphs"
   ]
  },
  {
   "cell_type": "code",
   "execution_count": 14,
   "metadata": {},
   "outputs": [
    {
     "name": "stdout",
     "output_type": "stream",
     "text": [
      "25\n",
      "{'loss': [0.86678147315979, 0.5896478891372681, 0.5141427516937256, 0.4507857859134674, 0.4193933606147766, 0.3889501094818115, 0.3694399297237396, 0.33539873361587524, 0.2955484986305237, 0.266001433134079, 0.25398480892181396, 0.22555725276470184, 0.2171451598405838, 0.17522607743740082, 0.16193123161792755, 0.12764029204845428, 0.11644584685564041, 0.11304924637079239, 0.12474251538515091, 0.1022375300526619, 0.0917983129620552, 0.09427399188280106, 0.10551244020462036, 0.07676901668310165, 0.061732806265354156], 'accuracy': [0.638700008392334, 0.7202000021934509, 0.751800000667572, 0.7930999994277954, 0.8105999827384949, 0.82669997215271, 0.8343999981880188, 0.8529999852180481, 0.8756999969482422, 0.8891000151634216, 0.8920000195503235, 0.9079999923706055, 0.9143999814987183, 0.9297000169754028, 0.935699999332428, 0.9495999813079834, 0.9545999765396118, 0.9574000239372253, 0.9546999931335449, 0.9613999724388123, 0.9657999873161316, 0.9642000198364258, 0.9593999981880188, 0.9731000065803528, 0.9776999950408936]}\n"
     ]
    },
    {
     "data": {
      "text/plain": [
       "<matplotlib.legend.Legend at 0x2312c99b9d0>"
      ]
     },
     "execution_count": 14,
     "metadata": {},
     "output_type": "execute_result"
    },
    {
     "data": {
      "image/png": "[encoded data removed]",
      "text/plain": [
       "<Figure size 1296x720 with 2 Axes>"
      ]
     },
     "metadata": {
      "needs_background": "light"
     },
     "output_type": "display_data"
    }
   ],
   "source": [
    "epochs=25\n",
    "acc = history.history['accuracy']\n",
    "print(len(acc))\n",
    "print(history.history)\n",
    "#val_acc = history.history['val_accuracy']\n",
    "\n",
    "loss = history.history['loss']\n",
    "#val_loss = history.history['val_loss']\n",
    "\n",
    "epochs_range = range(epochs)\n",
    "\n",
    "plt.figure(figsize=(18, 10))\n",
    "plt.subplot(1, 2, 1)\n",
    "plt.plot(epochs_range, acc, label='Training Accuracy')\n",
    "#plt.plot(epochs_range, val_acc, label='Validation Accuracy')\n",
    "plt.legend(loc='upper right')\n",
    "#plt.title('Training and Validation Accuracy')\n",
    "\n",
    "plt.subplot(1, 2, 2)\n",
    "plt.plot(epochs_range, loss, label='Training Loss')\n",
    "#plt.plot(epochs_range, val_loss, label='Validation Loss')\n",
    "plt.legend(loc='upper right')\n",
    "#plt.title('Training and Validation loss')"
   ]
  },
  {
   "cell_type": "markdown",
   "metadata": {},
   "source": [
    "## TESTING"
   ]
  },
  {
   "cell_type": "code",
   "execution_count": 15,
   "metadata": {},
   "outputs": [],
   "source": [
    "from tensorflow.keras.models import load_model"
   ]
  },
  {
   "cell_type": "code",
   "execution_count": 16,
   "metadata": {},
   "outputs": [
    {
     "data": {
      "text/plain": [
       "<keras.engine.sequential.Sequential at 0x2312c9b8d90>"
      ]
     },
     "execution_count": 16,
     "metadata": {},
     "output_type": "execute_result"
    }
   ],
   "source": [
    "model = load_model(r'D:\\Computer Vision\\model2_pets.h5')\n",
    "model"
   ]
  },
  {
   "cell_type": "code",
   "execution_count": 17,
   "metadata": {},
   "outputs": [
    {
     "name": "stdout",
     "output_type": "stream",
     "text": [
      "Model: \"sequential\"\n",
      "_________________________________________________________________\n",
      " Layer (type)                Output Shape              Param #   \n",
      "=================================================================\n",
      " conv2d (Conv2D)             (None, 98, 98, 32)        896       \n",
      "                                                                 \n",
      " batch_normalization (BatchN  (None, 98, 98, 32)       128       \n",
      " ormalization)                                                   \n",
      "                                                                 \n",
      " max_pooling2d (MaxPooling2D  (None, 49, 49, 32)       0         \n",
      " )                                                               \n",
      "                                                                 \n",
      " dropout (Dropout)           (None, 49, 49, 32)        0         \n",
      "                                                                 \n",
      " conv2d_1 (Conv2D)           (None, 47, 47, 64)        18496     \n",
      "                                                                 \n",
      " batch_normalization_1 (Batc  (None, 47, 47, 64)       256       \n",
      " hNormalization)                                                 \n",
      "                                                                 \n",
      " max_pooling2d_1 (MaxPooling  (None, 23, 23, 64)       0         \n",
      " 2D)                                                             \n",
      "                                                                 \n",
      " dropout_1 (Dropout)         (None, 23, 23, 64)        0         \n",
      "                                                                 \n",
      " conv2d_2 (Conv2D)           (None, 21, 21, 128)       73856     \n",
      "                                                                 \n",
      " batch_normalization_2 (Batc  (None, 21, 21, 128)      512       \n",
      " hNormalization)                                                 \n",
      "                                                                 \n",
      " max_pooling2d_2 (MaxPooling  (None, 10, 10, 128)      0         \n",
      " 2D)                                                             \n",
      "                                                                 \n",
      " dropout_2 (Dropout)         (None, 10, 10, 128)       0         \n",
      "                                                                 \n",
      " flatten (Flatten)           (None, 12800)             0         \n",
      "                                                                 \n",
      " dense (Dense)               (None, 512)               6554112   \n",
      "                                                                 \n",
      " batch_normalization_3 (Batc  (None, 512)              2048      \n",
      " hNormalization)                                                 \n",
      "                                                                 \n",
      " dropout_3 (Dropout)         (None, 512)               0         \n",
      "                                                                 \n",
      " dense_1 (Dense)             (None, 2)                 1026      \n",
      "                                                                 \n",
      "=================================================================\n",
      "Total params: 6,651,330\n",
      "Trainable params: 6,649,858\n",
      "Non-trainable params: 1,472\n",
      "_________________________________________________________________\n",
      "None\n"
     ]
    }
   ],
   "source": [
    "print(model.summary())"
   ]
  },
  {
   "cell_type": "markdown",
   "metadata": {},
   "source": [
    "Make a folder of random pics as test set"
   ]
  },
  {
   "cell_type": "code",
   "execution_count": 18,
   "metadata": {},
   "outputs": [
    {
     "name": "stdout",
     "output_type": "stream",
     "text": [
      "(0,)\n"
     ]
    }
   ],
   "source": [
    "test = r\"D:\\Computer Vision\\pet.test\"\n",
    "files = glob.glob(test + '\\**\\*.jpg', recursive=True)\n",
    "\n",
    "test_arr = []\n",
    "test_labels = []\n",
    "images = []\n",
    "\n",
    "for file in files:\n",
    "    print(file)\n",
    "    image = cv2.imread(file)\n",
    "    image = cv2.resize(image,(100,100)) # resizing\n",
    "    images.append(image)\n",
    "\n",
    "test_arr = np.array(images)\n",
    "test_arr = test_arr/255.0 \n",
    "print(test_arr.shape)"
   ]
  },
  {
   "cell_type": "code",
   "execution_count": 36,
   "metadata": {},
   "outputs": [
    {
     "name": "stdout",
     "output_type": "stream",
     "text": [
      "[[9.9961227e-01 3.8769966e-04]\n",
      " [8.7225837e-01 1.2774165e-01]\n",
      " [9.2233580e-01 7.7664182e-02]\n",
      " [9.5404518e-01 4.5954879e-02]\n",
      " [9.9537778e-01 4.6221805e-03]]\n"
     ]
    }
   ],
   "source": [
    "y_pred = model.predict(test_arr) # contains 2 cols for 2 categories [0]cats and [1]dogs\n",
    "print(y_pred)\n",
    "# first val in rows is greater in col1, so cat"
   ]
  },
  {
   "cell_type": "code",
   "execution_count": 44,
   "metadata": {},
   "outputs": [
    {
     "name": "stdout",
     "output_type": "stream",
     "text": [
      "[[9.9961227e-01 3.8769966e-04]\n",
      " [8.7225837e-01 1.2774165e-01]\n",
      " [9.2233580e-01 7.7664182e-02]\n",
      " [9.5404518e-01 4.5954879e-02]\n",
      " [9.9537778e-01 4.6221805e-03]]\n",
      "[0.9996123  0.87225837 0.9223358  0.9540452  0.9953778 ]\n"
     ]
    }
   ],
   "source": [
    "y_actual_cat = [1,1,1,0,0] # here 1 and 0 are probability vals\n",
    "# prob of pic being cat is 1, given manually from test folder, 1st 3 pics are cats\n",
    "#y_pred_cat = y_pred[0]  # here 0 is cat, for dog it is 1\n",
    "y_pred_cat = y_pred[:,0]  # 1st row [r:c,0] all rows and cols, only : means all rows and cols, after giving ,0, we see 1st row\n",
    "print(y_pred)\n",
    "print(y_pred_cat)"
   ]
  },
  {
   "cell_type": "code",
   "execution_count": 45,
   "metadata": {},
   "outputs": [],
   "source": [
    "y_actual_cat = np.array(y_actual_cat)"
   ]
  },
  {
   "cell_type": "code",
   "execution_count": 46,
   "metadata": {},
   "outputs": [
    {
     "name": "stdout",
     "output_type": "stream",
     "text": [
      "(5,)\n",
      "(5,)\n"
     ]
    }
   ],
   "source": [
    "print(y_actual_cat.shape)\n",
    "print(y_pred_cat.shape)"
   ]
  },
  {
   "cell_type": "code",
   "execution_count": 47,
   "metadata": {},
   "outputs": [],
   "source": [
    "from sklearn.metrics import roc_curve\n",
    "from sklearn.metrics import roc_auc_score\n",
    "from matplotlib import pyplot"
   ]
  },
  {
   "cell_type": "code",
   "execution_count": 48,
   "metadata": {},
   "outputs": [
    {
     "name": "stdout",
     "output_type": "stream",
     "text": [
      "AUC: 0.333\n"
     ]
    }
   ],
   "source": [
    "fpr, tpr, _ = roc_curve(y_actual_cat, y_pred_cat)\n",
    "...\n",
    "# calculate AUC (area under curve)\n",
    "auc = roc_auc_score(y_actual_cat, y_pred_cat)\n",
    "print('AUC: %.3f' % auc)"
   ]
  },
  {
   "cell_type": "code",
   "execution_count": 49,
   "metadata": {},
   "outputs": [
    {
     "data": {
      "image/png": "[encoded data removed]",
      "text/plain": [
       "<Figure size 432x288 with 1 Axes>"
      ]
     },
     "metadata": {
      "needs_background": "light"
     },
     "output_type": "display_data"
    }
   ],
   "source": [
    "pyplot.plot(fpr, tpr, linestyle='--', label='auc curve')\n",
    "# axis labels\n",
    "pyplot.xlabel('False Positive Rate')\n",
    "pyplot.ylabel('True Positive Rate')\n",
    "# show the legend\n",
    "pyplot.legend()\n",
    "# show the plot\n",
    "pyplot.show()\n",
    "\n",
    "## plotting for only cats. In binary, it's enough to plot for just one class to indicate how other class is working\n",
    "## for multiclass, plot all separately."
   ]
  },
  {
   "cell_type": "code",
   "execution_count": null,
   "metadata": {},
   "outputs": [],
   "source": [
    "## HW\n",
    "TRY FOR ALL PICS\n",
    "TRY FOR MORE EPOCHS AND HIGHER BATCHES\n",
    "SHOW ROC CURVE FOR TEST.ZIP FROM LINK\n",
    "## NEXT CLASS\n",
    "CALL BACK - DEFINE TOLERANCE"
   ]
  }
 ],
 "metadata": {
  "kernelspec": {
   "display_name": "Python 3",
   "language": "python",
   "name": "python3"
  },
  "language_info": {
   "codemirror_mode": {
    "name": "ipython",
    "version": 3
   },
   "file_extension": ".py",
   "mimetype": "text/x-python",
   "name": "python",
   "nbconvert_exporter": "python",
   "pygments_lexer": "ipython3",
   "version": "3.8.5"
  }
 },
 "nbformat": 4,
 "nbformat_minor": 5
}
